{
 "cells": [
  {
   "cell_type": "code",
   "execution_count": 1,
   "metadata": {},
   "outputs": [
    {
     "name": "stderr",
     "output_type": "stream",
     "text": [
      "Using TensorFlow backend.\n",
      "/home/paperspace/anaconda3/lib/python3.6/importlib/_bootstrap.py:205: RuntimeWarning: compiletime version 3.5 of module 'tensorflow.python.framework.fast_tensor_util' does not match runtime version 3.6\n",
      "  return f(*args, **kwds)\n"
     ]
    }
   ],
   "source": [
    "import numpy as np\n",
    "import os\n",
    "import pandas as pd\n",
    "import shutil\n",
    "from PIL import Image\n",
    "import matplotlib.pyplot as plt\n",
    "from sklearn.model_selection import StratifiedKFold\n",
    "from sklearn.metrics import accuracy_score, classification_report, confusion_matrix\n",
    "from sklearn.model_selection import train_test_split\n",
    "from sklearn.decomposition import PCA\n",
    "from sklearn.ensemble import RandomForestClassifier\n",
    "from sklearn.cross_validation import cross_val_score\n",
    "from sklearn.svm import SVC\n",
    "\n",
    "from bayes_opt import BayesianOptimization\n",
    "\n",
    "from keras.preprocessing.image import ImageDataGenerator, array_to_img\n",
    "from keras.applications.vgg16 import VGG16\n",
    "from keras.applications.resnet50 import ResNet50\n",
    "from keras.applications.inception_v3 import InceptionV3\n",
    "from keras.applications.xception import Xception\n",
    "from keras.models import Model, Sequential\n",
    "from keras.layers import Dense, BatchNormalization, Flatten, Dropout, Convolution2D, Activation, MaxPooling2D, GlobalAveragePooling2D\n",
    "from random import shuffle\n",
    "\n",
    "from keras.callbacks import Callback\n",
    "from keras.callbacks import ModelCheckpoint\n",
    "from keras.callbacks import LearningRateScheduler\n",
    "import math\n",
    "\n",
    "from keras.optimizers import SGD, Adam\n",
    "from keras import losses\n",
    "from keras.preprocessing.image import ImageDataGenerator, array_to_img\n",
    "\n",
    "#master_path = 'C:\\\\Users\\\\pochetti\\\\WorkDocs\\\\Desktop\\\\Fra\\\\Francesco\\\\Kaggle\\\\IEEE'\n",
    "master_path = \"/home/paperspace/IEEE\""
   ]
  },
  {
   "cell_type": "markdown",
   "metadata": {},
   "source": [
    "** Is there a GPU on the machine? **"
   ]
  },
  {
   "cell_type": "code",
   "execution_count": 2,
   "metadata": {},
   "outputs": [
    {
     "name": "stdout",
     "output_type": "stream",
     "text": [
      "[name: \"/device:CPU:0\"\n",
      "device_type: \"CPU\"\n",
      "memory_limit: 268435456\n",
      "locality {\n",
      "}\n",
      "incarnation: 4289362492012536167\n",
      ", name: \"/device:GPU:0\"\n",
      "device_type: \"GPU\"\n",
      "memory_limit: 7773745972\n",
      "locality {\n",
      "  bus_id: 1\n",
      "}\n",
      "incarnation: 13617983144464762836\n",
      "physical_device_desc: \"device: 0, name: Quadro M4000, pci bus id: 0000:00:05.0, compute capability: 5.2\"\n",
      "]\n"
     ]
    }
   ],
   "source": [
    "from tensorflow.python.client import device_lib\n",
    "print(device_lib.list_local_devices())"
   ]
  },
  {
   "cell_type": "markdown",
   "metadata": {},
   "source": [
    "### Helper Functions"
   ]
  },
  {
   "cell_type": "code",
   "execution_count": 3,
   "metadata": {
    "collapsed": true
   },
   "outputs": [],
   "source": [
    "def read_crop_save(frompath, topath):\n",
    "    img = Image.open(frompath)\n",
    "    w, h = img.size\n",
    "    img = img.crop((w // 2 - 256, h // 2 - 256, w // 2 + 256, h // 2 + 256)) \n",
    "    new_array = np.array(img)\n",
    "    plt.imsave(topath, new_array)\n",
    "    return\n",
    "\n",
    "#################################################################\n",
    "#################################################################\n",
    "\n",
    "# used to copy files according to each fold\n",
    "def copy_images(df, directory):\n",
    "    destination_directory = os.path.join(os.path.sep, master_path, 'crossval', directory)\n",
    "    print(\"copying {} files to {}...\".format(directory, destination_directory))\n",
    "\n",
    "    # remove all files from previous fold\n",
    "    if os.path.exists(destination_directory):\n",
    "        shutil.rmtree(destination_directory)\n",
    "\n",
    "    # create folder for files from this fold\n",
    "    if not os.path.exists(destination_directory):\n",
    "        os.makedirs(destination_directory)\n",
    "\n",
    "    # create subfolders for each class\n",
    "    for c in set(list(df['class'])):\n",
    "        if not os.path.exists(os.path.join(os.path.sep, destination_directory, c)):\n",
    "            os.makedirs(os.path.join(os.path.sep, destination_directory, c))\n",
    "\n",
    "    # copy files for this fold from a directory holding all the files\n",
    "    for i, row in df.iterrows():\n",
    "        try:\n",
    "            # this is the path to all of your images kept together in a separate folder\n",
    "            path_from = row['filename']\n",
    "            path_to = os.path.join(os.path.sep, destination_directory, row['class'])\n",
    "\n",
    "            # move from folder keeping all files to training, test, or validation folder (the \"directory\" argument)\n",
    "            shutil.copy(path_from, path_to)\n",
    "        except Exception as e:\n",
    "            print(\"Error when copying {}: {}\".format(row['filename'], str(e)))\n",
    "\n",
    "#################################################################\n",
    "#################################################################            \n",
    "            \n",
    "def preprocess_input_vgg16(x):\n",
    "    from keras.applications.vgg16 import preprocess_input\n",
    "    X = np.expand_dims(x, axis=0)\n",
    "    X = preprocess_input(X)\n",
    "    return X[0]\n",
    "\n",
    "#################################################################\n",
    "#################################################################\n",
    "\n",
    "def preprocess_input_inception_v3(x):\n",
    "    from keras.applications.inception_v3 import preprocess_input\n",
    "    X = np.expand_dims(x, axis=0)\n",
    "    X = preprocess_input(X)\n",
    "    return X[0]\n",
    "\n",
    "#################################################################\n",
    "#################################################################\n",
    "\n",
    "def preprocess_input_xception(x):\n",
    "    from keras.applications.xception import preprocess_input\n",
    "    X = np.expand_dims(x, axis=0)\n",
    "    X = preprocess_input(X)\n",
    "    return X[0]\n",
    "\n",
    "#################################################################\n",
    "#################################################################\n",
    "\n",
    "def preprocess_input_resnet50(x):\n",
    "    from keras.applications.resnet50 import preprocess_input\n",
    "    X = np.expand_dims(x, axis=0)\n",
    "    X = preprocess_input(X)\n",
    "    return X[0]\n",
    "\n",
    "#################################################################\n",
    "#################################################################\n",
    "\n",
    "class CheckLr(Callback):\n",
    "    def on_epoch_end(self, epoch, logs=None):\n",
    "        lr = self.model.optimizer.lr\n",
    "        decay = self.model.optimizer.decay\n",
    "        iterations = self.model.optimizer.iterations\n",
    "        lr_with_decay = lr / (1. + decay * K.cast(iterations, K.dtype(decay)))\n",
    "        print(K.eval(lr_with_decay))\n",
    "\n",
    "#################################################################\n",
    "#################################################################        \n",
    "        \n",
    "def step_decay(epoch):\n",
    "    initial_lrate = 0.1\n",
    "    drop = 0.5\n",
    "    epochs_drop = 10.0\n",
    "    lrate = initial_lrate * math.pow(drop, math.floor((1+epoch)/epochs_drop))\n",
    "    return lrate\n",
    "\n",
    "#################################################################\n",
    "#################################################################\n",
    "\n",
    "def build_on_bottleneck(which_net):\n",
    "    \n",
    "    if which_net == 'vgg16':\n",
    "        base_model = VGG16(weights='imagenet')\n",
    "    elif which_net == 'resnet50':\n",
    "        base_model = ResNet50(weights='imagenet')\n",
    "    elif which_net == 'xception':\n",
    "        base_model = Xception(weights='imagenet', include_top=False)\n",
    "    elif which_net == 'inception_v3':\n",
    "        base_model = InceptionV3(weights='imagenet', include_top=False)\n",
    "    \n",
    "    if which_net not in ['inception_v3', 'xception']:\n",
    "        j = [i for i, layer in enumerate(base_model.layers) if 'flatten' in layer.name][-1]\n",
    "    \n",
    "        x = base_model.layers[j].output\n",
    "        x = BatchNormalization()(x)\n",
    "        x = Dense(400, activation='relu')(x)\n",
    "        x = BatchNormalization()(x)\n",
    "        x = Dropout(0.5)(x)\n",
    "        x = Dense(200, activation='relu')(x)\n",
    "        x = BatchNormalization()(x)\n",
    "        x = Dropout(0.5)(x)\n",
    "        x = Dense(100, activation='relu')(x)\n",
    "        x = Dense(10, activation='softmax')(x)\n",
    "        \n",
    "        model = Model(input=base_model.input, output=x)\n",
    "        for i, layer in enumerate(model.layers):\n",
    "            if i <= j: layer.trainable = False\n",
    "    else:\n",
    "        x = base_model.output\n",
    "        x = GlobalAveragePooling2D()(x)\n",
    "        x = BatchNormalization()(x)\n",
    "        x = Dense(400, activation='relu')(x)\n",
    "        x = BatchNormalization()(x)\n",
    "        x = Dropout(0.5)(x)\n",
    "        x = Dense(200, activation='relu')(x)\n",
    "        x = BatchNormalization()(x)\n",
    "        x = Dropout(0.5)(x)\n",
    "        x = Dense(100, activation='relu')(x)\n",
    "        x = Dense(10, activation='softmax')(x)\n",
    "        \n",
    "        model = Model(input=base_model.input, output=x)\n",
    "        for layer in base_model.layers:\n",
    "            layer.trainable = False\n",
    "    \n",
    "    model.compile(optimizer='adam', loss=losses.categorical_crossentropy, metrics=['accuracy'])\n",
    "    \n",
    "    filepath = os.path.join(os.path.sep, master_path, which_net + \"BottleneckWeights.best.hdf5\")\n",
    "    checkpoint = ModelCheckpoint(filepath, monitor='val_acc', verbose=1, save_best_only=True, mode='max')\n",
    "    callbacks_list = [checkpoint]\n",
    "    \n",
    "    return model, callbacks_list\n",
    "\n",
    "#################################################################\n",
    "#################################################################\n",
    "\n",
    "def fine_tune(which_net, freeze_up_to):\n",
    "    \n",
    "    if which_net == 'vgg16':\n",
    "        base_model = VGG16(weights='imagenet')\n",
    "    elif which_net == 'resnet50':\n",
    "        base_model = ResNet50(weights='imagenet')\n",
    "    elif which_net == 'xception':\n",
    "        base_model = Xception(weights='imagenet', include_top=False)\n",
    "    elif which_net == 'inception_v3':\n",
    "        base_model = InceptionV3(weights='imagenet', include_top=False)\n",
    "    \n",
    "    if which_net not in ['inception_v3', 'xception']:\n",
    "        j = [i for i, layer in enumerate(base_model.layers) if 'flatten' in layer.name][-1]\n",
    "    \n",
    "        x = base_model.layers[j].output\n",
    "        x = BatchNormalization()(x)\n",
    "        x = Dense(400, activation='relu')(x)\n",
    "        x = BatchNormalization()(x)\n",
    "        x = Dropout(0.5)(x)\n",
    "        x = Dense(200, activation='relu')(x)\n",
    "        x = BatchNormalization()(x)\n",
    "        x = Dropout(0.5)(x)\n",
    "        x = Dense(100, activation='relu')(x)\n",
    "        x = Dense(10, activation='softmax')(x)\n",
    "        \n",
    "        model = Model(input=base_model.input, output=x)\n",
    "        \n",
    "    else:\n",
    "        x = base_model.output\n",
    "        x = GlobalAveragePooling2D()(x)\n",
    "        x = BatchNormalization()(x)\n",
    "        x = Dense(400, activation='relu')(x)\n",
    "        x = BatchNormalization()(x)\n",
    "        x = Dropout(0.5)(x)\n",
    "        x = Dense(200, activation='relu')(x)\n",
    "        x = BatchNormalization()(x)\n",
    "        x = Dropout(0.5)(x)\n",
    "        x = Dense(100, activation='relu')(x)\n",
    "        x = Dense(10, activation='softmax')(x)\n",
    "        \n",
    "        model = Model(input=base_model.input, output=x)\n",
    "    \n",
    "    model.load_weights(os.path.join(os.path.sep, master_path, which_net + \"BottleneckWeights.best.hdf5\"))\n",
    "    \n",
    "    for layer in model.layers[:freeze_up_to]:\n",
    "       layer.trainable = False\n",
    "    for layer in model.layers[freeze_up_to:]:\n",
    "       layer.trainable = True\n",
    "    \n",
    "    filepath = os.path.join(os.path.sep, master_path, which_net + \"FineTuneWeights.best.hdf5\")\n",
    "    checkpoint = ModelCheckpoint(filepath, monitor='val_acc', verbose=1, save_best_only=True, mode='max')\n",
    "    callbacks_list = [checkpoint]\n",
    "    \n",
    "    return model, callbacks_list    \n",
    "\n",
    "#################################################################\n",
    "#################################################################\n",
    "\n",
    "def save_bottleneck_features(batch_size, which_net):\n",
    "    \n",
    "    if which_net == 'vgg16': \n",
    "        model = VGG16(weights='imagenet', include_top=False)\n",
    "        target_size = [224, 224]\n",
    "        preprocessing_function=preprocess_input_vgg16\n",
    "    elif which_net == 'resnet50': \n",
    "        model = ResNet50(weights='imagenet', include_top=False)\n",
    "        target_size = [224, 224]\n",
    "        preprocessing_function=preprocess_input_resnet50\n",
    "    elif which_net == 'inception_v3':\n",
    "        model = InceptionV3(weights='imagenet', include_top=False)\n",
    "        target_size = [299, 299]\n",
    "        preprocessing_function=preprocess_input_inception_v3\n",
    "    \n",
    "    \n",
    "    datagen = ImageDataGenerator(preprocessing_function=preprocessing_function)\n",
    "\n",
    "    generator = datagen.flow_from_directory(os.path.join(os.path.sep, master_path, 'crossval', 'training'),\n",
    "                                            target_size=target_size,\n",
    "                                            batch_size=batch_size,\n",
    "                                            class_mode=None,\n",
    "                                            shuffle=False)\n",
    "    bottleneck_features_train = model.predict_generator(generator, nb_train_samples // batch_size)\n",
    "    np.save(os.path.join(os.sep, master_path, which_net+'bottleneck_features_train.npy'), \n",
    "            bottleneck_features_train)\n",
    "\n",
    "    generator = datagen.flow_from_directory(os.path.join(os.path.sep, master_path, 'crossval', 'validation'),\n",
    "                                            target_size=target_size,\n",
    "                                            batch_size=batch_size,\n",
    "                                            class_mode=None,\n",
    "                                            shuffle=False)\n",
    "    bottleneck_features_validation = model.predict_generator(generator, nb_validation_samples // batch_size)\n",
    "    np.save(os.path.join(os.sep, master_path, which_net+'bottleneck_features_val.npy'), \n",
    "            bottleneck_features_validation)\n",
    "    \n",
    "    return bottleneck_features_train, bottleneck_features_validation\n",
    "\n",
    "#################################################################\n",
    "#################################################################    \n",
    "    \n",
    "def define_generators(batch_size, which_net):\n",
    "    \n",
    "    if which_net == 'vgg16': \n",
    "        target_size = [224, 224]\n",
    "        preprocessing_function=preprocess_input_vgg16\n",
    "    elif which_net == 'resnet50': \n",
    "        target_size = [224, 224]\n",
    "        preprocessing_function=preprocess_input_resnet50\n",
    "    elif which_net == 'inception_v3': \n",
    "        target_size = [299, 299]\n",
    "        preprocessing_function=preprocess_input_inception_v3\n",
    "    elif which_net == 'xception': \n",
    "        target_size = [299, 299]\n",
    "        preprocessing_function=preprocess_input_xception\n",
    "    \n",
    "    train_datagen = ImageDataGenerator(preprocessing_function=preprocessing_function,\n",
    "                                       rotation_range=15,\n",
    "                                       width_shift_range=0.2,\n",
    "                                       height_shift_range=0.2,\n",
    "                                       shear_range=0.2,\n",
    "                                       zoom_range=0.2,\n",
    "                                       horizontal_flip=True,\n",
    "                                       fill_mode='nearest')\n",
    "\n",
    "    train_generator = train_datagen.flow_from_directory(directory=os.path.join(os.path.sep, master_path, 'crossval', 'training'),\n",
    "                                                        target_size=target_size,\n",
    "                                                        batch_size=batch_size,\n",
    "                                                        class_mode='categorical')\n",
    "\n",
    "    validation_datagen = ImageDataGenerator(preprocessing_function=preprocessing_function)\n",
    "    \n",
    "    validation_generator = validation_datagen.flow_from_directory(directory=os.path.join(os.path.sep, master_path, 'crossval', 'validation'),\n",
    "                                                                  target_size=target_size,\n",
    "                                                                  batch_size=batch_size,\n",
    "                                                                  class_mode='categorical')\n",
    "    return train_generator, validation_generator\n",
    "\n",
    "#################################################################\n",
    "#################################################################   \n",
    "\n",
    "def get_unshuffled_labels(X, class_indices):\n",
    "    s = X.str.split(os.sep).str[-2]\n",
    "    t1 = s.groupby(s).size().to_dict()\n",
    "    for i, k in enumerate(class_indices.keys()):\n",
    "        t1[i] = t1.pop(k)\n",
    "\n",
    "    t2 = [y for x in [[k] * v for k, v in t1.items()] for y in x]\n",
    "    return t2\n",
    "\n",
    "#################################################################\n",
    "#################################################################   \n",
    "\n",
    "def reshape_and_concat_features(features):\n",
    "    reshaped_ = []\n",
    "    for f in features:\n",
    "        a, b, c, d = f.shape\n",
    "        new_f = f.reshape((a, b*c*d))\n",
    "        reshaped_.append(new_f)\n",
    "        \n",
    "    return np.hstack(reshaped_)\n",
    "\n",
    "#################################################################\n",
    "#################################################################   \n",
    "\n",
    "def rfccv(n_estimators, min_samples_split, max_features):\n",
    "    clf = RandomForestClassifier(n_estimators=int(n_estimators),\n",
    "                                min_samples_split=int(min_samples_split),\n",
    "                                max_features=min(max_features, 0.999),\n",
    "                                random_state=2).fit(bft_shrink, y_t_unshuf)\n",
    "    return clf.score(bfv_shrink, y_v_unshuf)"
   ]
  },
  {
   "cell_type": "markdown",
   "metadata": {},
   "source": [
    "** Loading train data paths/labels into a dataframe **"
   ]
  },
  {
   "cell_type": "code",
   "execution_count": 4,
   "metadata": {},
   "outputs": [
    {
     "name": "stdout",
     "output_type": "stream",
     "text": [
      "(2750, 2)\n"
     ]
    },
    {
     "data": {
      "text/html": [
       "<div>\n",
       "<style>\n",
       "    .dataframe thead tr:only-child th {\n",
       "        text-align: right;\n",
       "    }\n",
       "\n",
       "    .dataframe thead th {\n",
       "        text-align: left;\n",
       "    }\n",
       "\n",
       "    .dataframe tbody tr th {\n",
       "        vertical-align: top;\n",
       "    }\n",
       "</style>\n",
       "<table border=\"1\" class=\"dataframe\">\n",
       "  <thead>\n",
       "    <tr style=\"text-align: right;\">\n",
       "      <th></th>\n",
       "      <th>class</th>\n",
       "      <th>filename</th>\n",
       "    </tr>\n",
       "  </thead>\n",
       "  <tbody>\n",
       "    <tr>\n",
       "      <th>0</th>\n",
       "      <td>Samsung-Galaxy-Note3</td>\n",
       "      <td>/home/paperspace/IEEE/resized/Samsung-Galaxy-N...</td>\n",
       "    </tr>\n",
       "    <tr>\n",
       "      <th>1</th>\n",
       "      <td>Samsung-Galaxy-Note3</td>\n",
       "      <td>/home/paperspace/IEEE/resized/Samsung-Galaxy-N...</td>\n",
       "    </tr>\n",
       "    <tr>\n",
       "      <th>2</th>\n",
       "      <td>Samsung-Galaxy-Note3</td>\n",
       "      <td>/home/paperspace/IEEE/resized/Samsung-Galaxy-N...</td>\n",
       "    </tr>\n",
       "    <tr>\n",
       "      <th>3</th>\n",
       "      <td>Samsung-Galaxy-Note3</td>\n",
       "      <td>/home/paperspace/IEEE/resized/Samsung-Galaxy-N...</td>\n",
       "    </tr>\n",
       "    <tr>\n",
       "      <th>4</th>\n",
       "      <td>Samsung-Galaxy-Note3</td>\n",
       "      <td>/home/paperspace/IEEE/resized/Samsung-Galaxy-N...</td>\n",
       "    </tr>\n",
       "  </tbody>\n",
       "</table>\n",
       "</div>"
      ],
      "text/plain": [
       "                  class                                           filename\n",
       "0  Samsung-Galaxy-Note3  /home/paperspace/IEEE/resized/Samsung-Galaxy-N...\n",
       "1  Samsung-Galaxy-Note3  /home/paperspace/IEEE/resized/Samsung-Galaxy-N...\n",
       "2  Samsung-Galaxy-Note3  /home/paperspace/IEEE/resized/Samsung-Galaxy-N...\n",
       "3  Samsung-Galaxy-Note3  /home/paperspace/IEEE/resized/Samsung-Galaxy-N...\n",
       "4  Samsung-Galaxy-Note3  /home/paperspace/IEEE/resized/Samsung-Galaxy-N..."
      ]
     },
     "execution_count": 4,
     "metadata": {},
     "output_type": "execute_result"
    }
   ],
   "source": [
    "list_paths = []\n",
    "for subdir, dirs, files in os.walk(master_path + os.sep + \"resized\"): #\"data\n",
    "    for file in files:\n",
    "        filepath = subdir + os.sep + file\n",
    "        list_paths.append(filepath)\n",
    "        \n",
    "list_train = [filepath for filepath in list_paths if \"resized\" in filepath and 'ipynb' not in filepath]\n",
    "#shuffle(list_train)\n",
    "\n",
    "labels = [os.path.dirname(filepath).split(os.sep)[-1] for filepath in list_train]\n",
    "data = pd.DataFrame({'filename': list_train, 'class': labels})\n",
    "\n",
    "print(data.shape)\n",
    "data.head()"
   ]
  },
  {
   "cell_type": "code",
   "execution_count": 5,
   "metadata": {},
   "outputs": [
    {
     "data": {
      "text/plain": [
       "Series([], Name: filename, dtype: object)"
      ]
     },
     "execution_count": 5,
     "metadata": {},
     "output_type": "execute_result"
    }
   ],
   "source": [
    "data.loc[data['class'] == '.ipynb_checkpoints', 'filename']"
   ]
  },
  {
   "cell_type": "markdown",
   "metadata": {},
   "source": [
    "** Splitting dataset into Train and Validation (we fix them now and don't change anymore; other option consists in applying a CV procedure which would involve defining a new train/val split for each iteration) **"
   ]
  },
  {
   "cell_type": "code",
   "execution_count": 6,
   "metadata": {},
   "outputs": [
    {
     "name": "stdout",
     "output_type": "stream",
     "text": [
      "(2062,) (688,)\n",
      "copying training files to /home/paperspace/IEEE/crossval/training...\n",
      "copying validation files to /home/paperspace/IEEE/crossval/validation...\n"
     ]
    }
   ],
   "source": [
    "X_train, X_val, y_train, y_val = train_test_split(data['filename'], data['class'], test_size=0.25, random_state=42)\n",
    "\n",
    "print(X_train.shape, X_val.shape)\n",
    "\n",
    "train = pd.concat([X_train, y_train], axis=1)\n",
    "validation = pd.concat([X_val, y_val], axis = 1)\n",
    "\n",
    "copy_images(train, 'training')\n",
    "copy_images(validation, 'validation')"
   ]
  },
  {
   "cell_type": "markdown",
   "metadata": {},
   "source": [
    "** Checking data generators **"
   ]
  },
  {
   "cell_type": "code",
   "execution_count": 8,
   "metadata": {},
   "outputs": [
    {
     "name": "stdout",
     "output_type": "stream",
     "text": [
      "Train Shape: (1830, 2)\n",
      "Validation Shape: (920, 2)\n",
      "copying training files to /home/paperspace/IEEE/crossval/training...\n",
      "copying validation files to /home/paperspace/IEEE/crossval/validation...\n"
     ]
    }
   ],
   "source": [
    "df_y = data['class']\n",
    "df_x = data['filename']\n",
    "\n",
    "skf = StratifiedKFold(n_splits = 3)\n",
    "\n",
    "for i, (train_index, test_index) in enumerate(skf.split(df_x, df_y)):\n",
    "    x_train, x_val = df_x.iloc[train_index], df_x.iloc[test_index]\n",
    "    y_train, y_val = df_y.iloc[train_index], df_y.iloc[test_index]\n",
    "\n",
    "    train = pd.concat([x_train, y_train], axis=1)\n",
    "    validation = pd.concat([x_val, y_val], axis = 1)\n",
    "    print('Train Shape:', train.shape)\n",
    "    print('Validation Shape:', validation.shape)\n",
    "    \n",
    "    # copy the images according to the fold\n",
    "    copy_images(train, 'training')\n",
    "    copy_images(validation, 'validation')\n",
    "    \n",
    "    break"
   ]
  },
  {
   "cell_type": "code",
   "execution_count": 7,
   "metadata": {},
   "outputs": [
    {
     "name": "stdout",
     "output_type": "stream",
     "text": [
      "Found 2062 images belonging to 10 classes.\n",
      "Found 688 images belonging to 10 classes.\n"
     ]
    },
    {
     "data": {
      "image/png": "[encoded data removed]",
      "text/plain": [
       "<matplotlib.figure.Figure at 0x7f871d77b860>"
      ]
     },
     "metadata": {},
     "output_type": "display_data"
    }
   ],
   "source": [
    "t, v = define_generators(64, 'xception')\n",
    "plt.imshow(next(t)[0][3])\n",
    "plt.show()"
   ]
  },
  {
   "cell_type": "code",
   "execution_count": 8,
   "metadata": {},
   "outputs": [
    {
     "data": {
      "text/plain": [
       "{'HTC-1-M7': 0,\n",
       " 'LG-Nexus-5x': 1,\n",
       " 'Motorola-Droid-Maxx': 2,\n",
       " 'Motorola-Nexus-6': 3,\n",
       " 'Motorola-X': 4,\n",
       " 'Samsung-Galaxy-Note3': 5,\n",
       " 'Samsung-Galaxy-S4': 6,\n",
       " 'Sony-NEX-7': 7,\n",
       " 'iPhone-4s': 8,\n",
       " 'iPhone-6': 9}"
      ]
     },
     "execution_count": 8,
     "metadata": {},
     "output_type": "execute_result"
    }
   ],
   "source": [
    "t.class_indices"
   ]
  },
  {
   "cell_type": "markdown",
   "metadata": {},
   "source": [
    "** (Need to run this cell only once at the beginning of the project to set the dataset up) Resizing train images and saving them back **"
   ]
  },
  {
   "cell_type": "code",
   "execution_count": 18,
   "metadata": {
    "collapsed": true
   },
   "outputs": [],
   "source": [
    "list_classes = list(set([os.path.dirname(filepath).split(os.sep)[-1] for filepath in list_paths if \"train\" in filepath]))\n",
    "\n",
    "dest_dir = os.path.join(os.path.sep, master_path, 'resized')\n",
    "\n",
    "for c in list_classes:\n",
    "    if not os.path.exists(os.path.join(os.path.sep, dest_dir, c)):\n",
    "        os.makedirs(os.path.join(os.path.sep, dest_dir, c))\n",
    "        \n",
    "for i, row in data.iterrows():\n",
    "    frompath = row['filename']\n",
    "    topath = os.path.join(os.path.sep, dest_dir, row['class'], row['filename'].split(os.sep)[-1]).replace('tif', 'jpg')\n",
    "    read_crop_save(frompath, topath)"
   ]
  },
  {
   "cell_type": "markdown",
   "metadata": {},
   "source": [
    "## Extracting Bottleneck Features\n"
   ]
  },
  {
   "cell_type": "code",
   "execution_count": 21,
   "metadata": {},
   "outputs": [
    {
     "name": "stdout",
     "output_type": "stream",
     "text": [
      "Found 2062 images belonging to 10 classes.\n",
      "Found 688 images belonging to 10 classes.\n",
      "(2062, 7, 7, 512)\n",
      "(688, 7, 7, 512)\n"
     ]
    },
    {
     "data": {
      "text/plain": [
       "(2062, 25088)"
      ]
     },
     "execution_count": 21,
     "metadata": {},
     "output_type": "execute_result"
    }
   ],
   "source": [
    "nb_train_samples = X_train.shape[0]\n",
    "nb_validation_samples = X_val.shape[0]\n",
    "\n",
    "bft_vgg16, bfv_vgg16 = save_bottleneck_features(1, 'vgg16')\n",
    "\n",
    "print(bft_vgg16.shape)\n",
    "print(bfv_vgg16.shape)\n",
    "\n",
    "a, b, c, d = bft_vgg16.shape\n",
    "bft_vgg16.reshape((a, b*c*d)).shape"
   ]
  },
  {
   "cell_type": "code",
   "execution_count": 23,
   "metadata": {},
   "outputs": [
    {
     "name": "stdout",
     "output_type": "stream",
     "text": [
      "Found 2062 images belonging to 10 classes.\n",
      "Found 688 images belonging to 10 classes.\n",
      "(2062, 1, 1, 2048)\n",
      "(688, 1, 1, 2048)\n"
     ]
    },
    {
     "data": {
      "text/plain": [
       "(2062, 2048)"
      ]
     },
     "execution_count": 23,
     "metadata": {},
     "output_type": "execute_result"
    }
   ],
   "source": [
    "bft_resnet50, bfv_resnet50 = save_bottleneck_features(1, 'resnet50')\n",
    "\n",
    "print(bft_resnet50.shape)\n",
    "print(bfv_resnet50.shape)\n",
    "\n",
    "a, b, c, d = bft_resnet50.shape\n",
    "bft_resnet50.reshape((a, b*c*d)).shape"
   ]
  },
  {
   "cell_type": "code",
   "execution_count": 24,
   "metadata": {},
   "outputs": [
    {
     "name": "stdout",
     "output_type": "stream",
     "text": [
      "Found 2062 images belonging to 10 classes.\n",
      "Found 688 images belonging to 10 classes.\n",
      "(2062, 8, 8, 2048)\n",
      "(688, 8, 8, 2048)\n"
     ]
    },
    {
     "data": {
      "text/plain": [
       "(2062, 131072)"
      ]
     },
     "execution_count": 24,
     "metadata": {},
     "output_type": "execute_result"
    }
   ],
   "source": [
    "bft_inception_v3, bfv_inception_v3 = save_bottleneck_features(1, 'inception_v3')\n",
    "\n",
    "print(bft_inception_v3.shape)\n",
    "print(bfv_inception_v3.shape)\n",
    "\n",
    "a, b, c, d = bft_inception_v3.shape\n",
    "bft_inception_v3.reshape((a, b*c*d)).shape"
   ]
  },
  {
   "cell_type": "code",
   "execution_count": 15,
   "metadata": {},
   "outputs": [
    {
     "name": "stdout",
     "output_type": "stream",
     "text": [
      "2062 688\n"
     ]
    }
   ],
   "source": [
    "y_t_unshuf = get_unshuffled_labels(X_train, t.class_indices)\n",
    "y_v_unshuf = get_unshuffled_labels(X_val, t.class_indices)\n",
    "\n",
    "print(len(y_t_unshuf), len(y_v_unshuf))"
   ]
  },
  {
   "cell_type": "code",
   "execution_count": 124,
   "metadata": {},
   "outputs": [
    {
     "data": {
      "text/plain": [
       "(2062, 158208)"
      ]
     },
     "execution_count": 124,
     "metadata": {},
     "output_type": "execute_result"
    }
   ],
   "source": [
    "bft = reshape_and_concat_features([bft_vgg16, bft_resnet50, bft_inception_v3])\n",
    "\n",
    "bft.shape"
   ]
  },
  {
   "cell_type": "code",
   "execution_count": 128,
   "metadata": {},
   "outputs": [
    {
     "data": {
      "text/plain": [
       "(2062, 1000)"
      ]
     },
     "execution_count": 128,
     "metadata": {},
     "output_type": "execute_result"
    }
   ],
   "source": [
    "pca = PCA(n_components=1000)\n",
    "bft_shrink = pca.fit_transform(bft)\n",
    "\n",
    "bft_shrink.shape"
   ]
  },
  {
   "cell_type": "code",
   "execution_count": 133,
   "metadata": {},
   "outputs": [
    {
     "name": "stdout",
     "output_type": "stream",
     "text": [
      "(688, 158208) (688, 1000)\n"
     ]
    }
   ],
   "source": [
    "bfv = reshape_and_concat_features([bfv_vgg16, bfv_resnet50, bfv_inception_v3])\n",
    "\n",
    "bfv_shrink = pca.transform(bfv)\n",
    "\n",
    "print(bfv.shape, bfv_shrink.shape)"
   ]
  },
  {
   "cell_type": "code",
   "execution_count": 134,
   "metadata": {},
   "outputs": [
    {
     "data": {
      "text/plain": [
       "0.17877906976744187"
      ]
     },
     "execution_count": 134,
     "metadata": {},
     "output_type": "execute_result"
    }
   ],
   "source": [
    "rf = RandomForestClassifier()\n",
    "rf.fit(bft_shrink, y_t_unshuf)\n",
    "rf.score(bfv_shrink, y_v_unshuf)"
   ]
  },
  {
   "cell_type": "code",
   "execution_count": 135,
   "metadata": {},
   "outputs": [
    {
     "data": {
      "text/plain": [
       "0.99709020368574197"
      ]
     },
     "execution_count": 135,
     "metadata": {},
     "output_type": "execute_result"
    }
   ],
   "source": [
    "rf.score(bft_shrink, y_t_unshuf)"
   ]
  },
  {
   "cell_type": "code",
   "execution_count": 140,
   "metadata": {},
   "outputs": [
    {
     "name": "stdout",
     "output_type": "stream",
     "text": [
      "\u001b[31mInitialization\u001b[0m\n",
      "\u001b[94m-------------------------------------------------------------------------------------\u001b[0m\n",
      " Step |   Time |      Value |   max_features |   min_samples_split |   n_estimators | \n",
      "    1 | 00m51s | \u001b[35m   0.27180\u001b[0m | \u001b[32m        0.9713\u001b[0m | \u001b[32m             2.7241\u001b[0m | \u001b[32m       27.9527\u001b[0m | \n",
      "    2 | 02m18s | \u001b[35m   0.30087\u001b[0m | \u001b[32m        0.9068\u001b[0m | \u001b[32m            14.4502\u001b[0m | \u001b[32m       90.6709\u001b[0m | \n",
      "    3 | 02m54s |    0.29215 |         0.7443 |              5.5636 |       134.1986 | \n",
      "    4 | 13m36s | \u001b[35m   0.30233\u001b[0m | \u001b[32m        0.9768\u001b[0m | \u001b[32m             2.4425\u001b[0m | \u001b[32m      416.6764\u001b[0m | \n",
      "    5 | 03m04s | \u001b[35m   0.32703\u001b[0m | \u001b[32m        0.3015\u001b[0m | \u001b[32m             5.2045\u001b[0m | \u001b[32m      274.9507\u001b[0m | \n",
      "\u001b[31mBayesian Optimization\u001b[0m\n",
      "\u001b[94m-------------------------------------------------------------------------------------\u001b[0m\n",
      " Step |   Time |      Value |   max_features |   min_samples_split |   n_estimators | \n",
      "    6 | 05m48s | \u001b[35m   0.33140\u001b[0m | \u001b[32m        0.1000\u001b[0m | \u001b[32m            25.0000\u001b[0m | \u001b[32m     1000.0000\u001b[0m | \n",
      "    7 | 17m12s |    0.31541 |         0.4669 |             24.9657 |       781.5017 | \n",
      "    8 | 02m28s |    0.32703 |         0.1735 |             24.9600 |       311.1939 | \n",
      "    9 | 21m01s |    0.32122 |         0.5309 |              2.0185 |       914.4627 | \n",
      "   10 | 09m11s |    0.32703 |         0.3018 |              2.1002 |       999.8172 | \n"
     ]
    },
    {
     "name": "stderr",
     "output_type": "stream",
     "text": [
      "C:\\Users\\pochetti\\WorkDocs\\Anaconda3\\lib\\site-packages\\sklearn\\gaussian_process\\gpr.py:427: UserWarning: fmin_l_bfgs_b terminated abnormally with the  state: {'grad': array([ -1.06767989e-05]), 'task': b'ABNORMAL_TERMINATION_IN_LNSRCH', 'funcalls': 51, 'nit': 5, 'warnflag': 2}\n",
      "  \" state: %s\" % convergence_dict)\n"
     ]
    },
    {
     "name": "stdout",
     "output_type": "stream",
     "text": [
      "   11 | 19m30s |    0.30669 |         0.7625 |             24.8365 |       998.4711 | \n"
     ]
    },
    {
     "name": "stderr",
     "output_type": "stream",
     "text": [
      "C:\\Users\\pochetti\\WorkDocs\\Anaconda3\\lib\\site-packages\\sklearn\\gaussian_process\\gpr.py:427: UserWarning: fmin_l_bfgs_b terminated abnormally with the  state: {'grad': array([ -1.36646559e-05]), 'task': b'ABNORMAL_TERMINATION_IN_LNSRCH', 'funcalls': 48, 'nit': 4, 'warnflag': 2}\n",
      "  \" state: %s\" % convergence_dict)\n"
     ]
    },
    {
     "name": "stdout",
     "output_type": "stream",
     "text": [
      "   12 | 03m44s | \u001b[35m   0.35320\u001b[0m | \u001b[32m        0.1492\u001b[0m | \u001b[32m             2.0491\u001b[0m | \u001b[32m      670.4516\u001b[0m | \n",
      "   13 | 02m56s |    0.33576 |         0.1664 |             24.9791 |       599.5480 | \n",
      "   14 | 04m38s |    0.33140 |         0.2317 |              2.0789 |       618.6007 | \n",
      "   15 | 05m08s |    0.32703 |         0.2764 |             24.8676 |       678.6992 | \n"
     ]
    },
    {
     "name": "stderr",
     "output_type": "stream",
     "text": [
      "C:\\Users\\pochetti\\WorkDocs\\Anaconda3\\lib\\site-packages\\sklearn\\gaussian_process\\gpr.py:427: UserWarning: fmin_l_bfgs_b terminated abnormally with the  state: {'grad': array([ 0.00010058]), 'task': b'ABNORMAL_TERMINATION_IN_LNSRCH', 'funcalls': 53, 'nit': 7, 'warnflag': 2}\n",
      "  \" state: %s\" % convergence_dict)\n"
     ]
    },
    {
     "name": "stdout",
     "output_type": "stream",
     "text": [
      "   16 | 02m26s |    0.31250 |         0.3952 |             24.9034 |       218.4993 | \n"
     ]
    },
    {
     "name": "stderr",
     "output_type": "stream",
     "text": [
      "C:\\Users\\pochetti\\WorkDocs\\Anaconda3\\lib\\site-packages\\sklearn\\gaussian_process\\gpr.py:427: UserWarning: fmin_l_bfgs_b terminated abnormally with the  state: {'grad': array([  2.83566833e-05]), 'task': b'ABNORMAL_TERMINATION_IN_LNSRCH', 'funcalls': 52, 'nit': 5, 'warnflag': 2}\n",
      "  \" state: %s\" % convergence_dict)\n"
     ]
    },
    {
     "name": "stdout",
     "output_type": "stream",
     "text": [
      "   17 | 03m52s | \u001b[35m   0.35610\u001b[0m | \u001b[32m        0.1439\u001b[0m | \u001b[32m             2.0073\u001b[0m | \u001b[32m      751.9634\u001b[0m | \n"
     ]
    },
    {
     "name": "stderr",
     "output_type": "stream",
     "text": [
      "C:\\Users\\pochetti\\WorkDocs\\Anaconda3\\lib\\site-packages\\sklearn\\gaussian_process\\gpr.py:427: UserWarning: fmin_l_bfgs_b terminated abnormally with the  state: {'grad': array([ -3.13805358e-05]), 'task': b'ABNORMAL_TERMINATION_IN_LNSRCH', 'funcalls': 53, 'nit': 6, 'warnflag': 2}\n",
      "  \" state: %s\" % convergence_dict)\n"
     ]
    },
    {
     "name": "stdout",
     "output_type": "stream",
     "text": [
      "   18 | 05m10s |    0.35465 |         0.1843 |              2.1071 |       808.8887 | \n",
      "   19 | 02m19s |    0.33430 |         0.1626 |             24.9712 |       507.5198 | \n",
      "   20 | 03m44s |    0.34012 |         0.1464 |              2.0558 |       714.7820 | \n"
     ]
    },
    {
     "name": "stderr",
     "output_type": "stream",
     "text": [
      "C:\\Users\\pochetti\\WorkDocs\\Anaconda3\\lib\\site-packages\\sklearn\\gaussian_process\\gpr.py:427: UserWarning: fmin_l_bfgs_b terminated abnormally with the  state: {'grad': array([ -3.80673168e-05]), 'task': b'ABNORMAL_TERMINATION_IN_LNSRCH', 'funcalls': 52, 'nit': 5, 'warnflag': 2}\n",
      "  \" state: %s\" % convergence_dict)\n"
     ]
    },
    {
     "name": "stdout",
     "output_type": "stream",
     "text": [
      "   21 | 03m03s |    0.35465 |         0.1085 |              2.0974 |       783.5423 | \n",
      "   22 | 06m29s |    0.33430 |         0.2353 |              2.0131 |       835.2332 | \n",
      "   23 | 11m00s |    0.33430 |         0.2817 |              2.1267 |       779.8945 | \n",
      "   24 | 05m22s |    0.34012 |         0.1314 |              2.0241 |       758.1813 | \n"
     ]
    },
    {
     "name": "stderr",
     "output_type": "stream",
     "text": [
      "C:\\Users\\pochetti\\WorkDocs\\Anaconda3\\lib\\site-packages\\sklearn\\gaussian_process\\gpr.py:427: UserWarning: fmin_l_bfgs_b terminated abnormally with the  state: {'grad': array([ -2.26457790e-05]), 'task': b'ABNORMAL_TERMINATION_IN_LNSRCH', 'funcalls': 51, 'nit': 6, 'warnflag': 2}\n",
      "  \" state: %s\" % convergence_dict)\n"
     ]
    },
    {
     "name": "stdout",
     "output_type": "stream",
     "text": [
      "   25 | 06m35s |    0.34738 |         0.1057 |              2.0944 |       682.2377 | \n"
     ]
    },
    {
     "name": "stderr",
     "output_type": "stream",
     "text": [
      "C:\\Users\\pochetti\\WorkDocs\\Anaconda3\\lib\\site-packages\\sklearn\\gaussian_process\\gpr.py:427: UserWarning: fmin_l_bfgs_b terminated abnormally with the  state: {'grad': array([  2.45781266e-05]), 'task': b'ABNORMAL_TERMINATION_IN_LNSRCH', 'funcalls': 47, 'nit': 5, 'warnflag': 2}\n",
      "  \" state: %s\" % convergence_dict)\n"
     ]
    },
    {
     "name": "stdout",
     "output_type": "stream",
     "text": [
      "   26 | 03m17s |    0.34302 |         0.1298 |              2.2535 |       678.3015 | \n",
      "   27 | 03m16s |    0.35174 |         0.1204 |              2.0285 |       794.0485 | \n"
     ]
    },
    {
     "name": "stderr",
     "output_type": "stream",
     "text": [
      "C:\\Users\\pochetti\\WorkDocs\\Anaconda3\\lib\\site-packages\\sklearn\\gaussian_process\\gpr.py:427: UserWarning: fmin_l_bfgs_b terminated abnormally with the  state: {'grad': array([-0.00028527]), 'task': b'ABNORMAL_TERMINATION_IN_LNSRCH', 'funcalls': 54, 'nit': 5, 'warnflag': 2}\n",
      "  \" state: %s\" % convergence_dict)\n"
     ]
    },
    {
     "name": "stdout",
     "output_type": "stream",
     "text": [
      "   28 | 04m00s |    0.34738 |         0.1402 |              2.2040 |       789.7084 | \n"
     ]
    },
    {
     "name": "stderr",
     "output_type": "stream",
     "text": [
      "C:\\Users\\pochetti\\WorkDocs\\Anaconda3\\lib\\site-packages\\sklearn\\gaussian_process\\gpr.py:427: UserWarning: fmin_l_bfgs_b terminated abnormally with the  state: {'grad': array([ -3.50420048e-05]), 'task': b'ABNORMAL_TERMINATION_IN_LNSRCH', 'funcalls': 54, 'nit': 4, 'warnflag': 2}\n",
      "  \" state: %s\" % convergence_dict)\n",
      "C:\\Users\\pochetti\\WorkDocs\\Anaconda3\\lib\\site-packages\\sklearn\\gaussian_process\\gpr.py:427: UserWarning: fmin_l_bfgs_b terminated abnormally with the  state: {'grad': array([  5.91054777e-05]), 'task': b'ABNORMAL_TERMINATION_IN_LNSRCH', 'funcalls': 53, 'nit': 8, 'warnflag': 2}\n",
      "  \" state: %s\" % convergence_dict)\n"
     ]
    },
    {
     "name": "stdout",
     "output_type": "stream",
     "text": [
      "   29 | 04m34s |    0.34302 |         0.1651 |              2.0146 |       794.8547 | \n",
      "   30 | 03m02s |    0.34157 |         0.1129 |              2.0489 |       784.7359 | \n"
     ]
    },
    {
     "name": "stderr",
     "output_type": "stream",
     "text": [
      "C:\\Users\\pochetti\\WorkDocs\\Anaconda3\\lib\\site-packages\\sklearn\\gaussian_process\\gpr.py:427: UserWarning: fmin_l_bfgs_b terminated abnormally with the  state: {'grad': array([  3.57400572e-05]), 'task': b'ABNORMAL_TERMINATION_IN_LNSRCH', 'funcalls': 50, 'nit': 3, 'warnflag': 2}\n",
      "  \" state: %s\" % convergence_dict)\n"
     ]
    },
    {
     "name": "stdout",
     "output_type": "stream",
     "text": [
      "-----------------------------------------------------\n",
      "Final Results\n",
      "RFC: 0.356105\n"
     ]
    }
   ],
   "source": [
    "gp_params = {\"alpha\": 1e-5}\n",
    "\n",
    "rfcBO = BayesianOptimization(\n",
    "    rfccv,\n",
    "    {'n_estimators': (10, 1000),\n",
    "    'min_samples_split': (2, 25),\n",
    "    'max_features': (0.1, 0.999)}\n",
    ")\n",
    "\n",
    "rfcBO.maximize(n_iter=25, **gp_params)\n",
    "print('-' * 53)\n",
    "print('Final Results')\n",
    "print('RFC: %f' % rfcBO.res['max']['max_val'])"
   ]
  },
  {
   "cell_type": "code",
   "execution_count": 146,
   "metadata": {},
   "outputs": [
    {
     "data": {
      "text/plain": [
       "{'max_params': {'max_features': 0.14387961696996915,\n",
       "  'min_samples_split': 2.0072803719512726,\n",
       "  'n_estimators': 751.96343403263938},\n",
       " 'max_val': 0.35610465116279072}"
      ]
     },
     "execution_count": 146,
     "metadata": {},
     "output_type": "execute_result"
    }
   ],
   "source": [
    "rfcBO.res['max']"
   ]
  },
  {
   "cell_type": "markdown",
   "metadata": {},
   "source": [
    "## Xception"
   ]
  },
  {
   "cell_type": "code",
   "execution_count": 9,
   "metadata": {},
   "outputs": [
    {
     "name": "stderr",
     "output_type": "stream",
     "text": [
      "/home/paperspace/anaconda3/lib/python3.6/site-packages/ipykernel_launcher.py:143: UserWarning: Update your `Model` call to the Keras 2 API: `Model(inputs=Tensor(\"in..., outputs=Tensor(\"de...)`\n"
     ]
    }
   ],
   "source": [
    "xception_b, callbacks_xception_b = build_on_bottleneck('xception')"
   ]
  },
  {
   "cell_type": "code",
   "execution_count": 23,
   "metadata": {},
   "outputs": [
    {
     "name": "stdout",
     "output_type": "stream",
     "text": [
      "Found 2062 images belonging to 10 classes.\n",
      "Found 688 images belonging to 10 classes.\n",
      "Epoch 1/15\n",
      "Epoch 00000: val_acc improved from -inf to 0.20312, saving model to /home/paperspace/IEEE/xceptionBottleneckWeights.best.hdf5\n",
      "84s - loss: 2.7374 - acc: 0.1274 - val_loss: 2.2158 - val_acc: 0.2031\n",
      "Epoch 2/15\n",
      "Epoch 00001: val_acc improved from 0.20312 to 0.23237, saving model to /home/paperspace/IEEE/xceptionBottleneckWeights.best.hdf5\n",
      "54s - loss: 2.2249 - acc: 0.2271 - val_loss: 2.1488 - val_acc: 0.2324\n",
      "Epoch 3/15\n",
      "Epoch 00002: val_acc did not improve\n",
      "54s - loss: 2.0715 - acc: 0.2809 - val_loss: 2.1048 - val_acc: 0.2308\n",
      "Epoch 4/15\n",
      "Epoch 00003: val_acc improved from 0.23237 to 0.26923, saving model to /home/paperspace/IEEE/xceptionBottleneckWeights.best.hdf5\n",
      "55s - loss: 1.9897 - acc: 0.3000 - val_loss: 2.0065 - val_acc: 0.2692\n",
      "Epoch 5/15\n",
      "Epoch 00004: val_acc improved from 0.26923 to 0.28045, saving model to /home/paperspace/IEEE/xceptionBottleneckWeights.best.hdf5\n",
      "54s - loss: 1.8635 - acc: 0.3307 - val_loss: 1.9365 - val_acc: 0.2804\n",
      "Epoch 6/15\n",
      "Epoch 00005: val_acc improved from 0.28045 to 0.30929, saving model to /home/paperspace/IEEE/xceptionBottleneckWeights.best.hdf5\n",
      "55s - loss: 1.8139 - acc: 0.3547 - val_loss: 1.8747 - val_acc: 0.3093\n",
      "Epoch 7/15\n",
      "Epoch 00006: val_acc improved from 0.30929 to 0.37019, saving model to /home/paperspace/IEEE/xceptionBottleneckWeights.best.hdf5\n",
      "54s - loss: 1.7522 - acc: 0.3798 - val_loss: 1.7540 - val_acc: 0.3702\n",
      "Epoch 8/15\n",
      "Epoch 00007: val_acc improved from 0.37019 to 0.40865, saving model to /home/paperspace/IEEE/xceptionBottleneckWeights.best.hdf5\n",
      "54s - loss: 1.7149 - acc: 0.3979 - val_loss: 1.6786 - val_acc: 0.4087\n",
      "Epoch 9/15\n",
      "Epoch 00008: val_acc did not improve\n",
      "53s - loss: 1.6528 - acc: 0.4226 - val_loss: 1.6411 - val_acc: 0.4087\n",
      "Epoch 10/15\n",
      "Epoch 00009: val_acc did not improve\n",
      "54s - loss: 1.6016 - acc: 0.4333 - val_loss: 1.6126 - val_acc: 0.4054\n",
      "Epoch 11/15\n",
      "Epoch 00010: val_acc improved from 0.40865 to 0.44231, saving model to /home/paperspace/IEEE/xceptionBottleneckWeights.best.hdf5\n",
      "55s - loss: 1.5632 - acc: 0.4512 - val_loss: 1.5886 - val_acc: 0.4423\n",
      "Epoch 12/15\n",
      "Epoch 00011: val_acc did not improve\n",
      "54s - loss: 1.5222 - acc: 0.4593 - val_loss: 1.5840 - val_acc: 0.4343\n",
      "Epoch 13/15\n",
      "Epoch 00012: val_acc improved from 0.44231 to 0.45192, saving model to /home/paperspace/IEEE/xceptionBottleneckWeights.best.hdf5\n",
      "54s - loss: 1.4413 - acc: 0.4802 - val_loss: 1.5774 - val_acc: 0.4519\n",
      "Epoch 14/15\n",
      "Epoch 00013: val_acc improved from 0.45192 to 0.50481, saving model to /home/paperspace/IEEE/xceptionBottleneckWeights.best.hdf5\n",
      "54s - loss: 1.4811 - acc: 0.4802 - val_loss: 1.5228 - val_acc: 0.5048\n",
      "Epoch 15/15\n",
      "Epoch 00014: val_acc did not improve\n",
      "54s - loss: 1.4350 - acc: 0.5127 - val_loss: 1.5176 - val_acc: 0.4808\n"
     ]
    },
    {
     "data": {
      "text/plain": [
       "<keras.callbacks.History at 0x7f4bb4b97668>"
      ]
     },
     "execution_count": 23,
     "metadata": {},
     "output_type": "execute_result"
    }
   ],
   "source": [
    "batch_size = 64\n",
    "train_gen, valid_gen = define_generators(batch_size, 'xception')\n",
    "    \n",
    "xception_b.fit_generator(train_gen,\n",
    "                        steps_per_epoch=X_train.shape[0]//batch_size,\n",
    "                        epochs=15,\n",
    "                        validation_data=valid_gen,\n",
    "                        verbose=2,\n",
    "                        validation_steps=X_val.shape[0]//batch_size,\n",
    "                        callbacks=callbacks_xception_b)"
   ]
  },
  {
   "cell_type": "code",
   "execution_count": 26,
   "metadata": {},
   "outputs": [
    {
     "name": "stderr",
     "output_type": "stream",
     "text": [
      "/home/paperspace/anaconda3/lib/python3.6/site-packages/ipykernel_launcher.py:198: UserWarning: Update your `Model` call to the Keras 2 API: `Model(inputs=Tensor(\"in..., outputs=Tensor(\"de...)`\n"
     ]
    }
   ],
   "source": [
    "xception_ft, callbacks_xception_ft = fine_tune('xception', 75)\n",
    "xception_ft.compile(optimizer=SGD(lr=0.0001, momentum=0.9), loss='categorical_crossentropy', metrics=['accuracy'])"
   ]
  },
  {
   "cell_type": "code",
   "execution_count": 27,
   "metadata": {},
   "outputs": [
    {
     "name": "stdout",
     "output_type": "stream",
     "text": [
      "Found 2062 images belonging to 10 classes.\n",
      "Found 688 images belonging to 10 classes.\n",
      "Epoch 1/15\n",
      "Epoch 00000: val_acc improved from -inf to 0.46875, saving model to /home/paperspace/IEEE/xceptionFineTuneWeights.best.hdf5\n",
      "112s - loss: 1.4426 - acc: 0.4985 - val_loss: 1.5985 - val_acc: 0.4688\n",
      "Epoch 2/15\n",
      "Epoch 00001: val_acc improved from 0.46875 to 0.47917, saving model to /home/paperspace/IEEE/xceptionFineTuneWeights.best.hdf5\n",
      "83s - loss: 1.3930 - acc: 0.5220 - val_loss: 1.5762 - val_acc: 0.4792\n",
      "Epoch 3/15\n",
      "Epoch 00002: val_acc improved from 0.47917 to 0.48878, saving model to /home/paperspace/IEEE/xceptionFineTuneWeights.best.hdf5\n",
      "83s - loss: 1.4472 - acc: 0.4939 - val_loss: 1.5745 - val_acc: 0.4888\n",
      "Epoch 4/15\n",
      "Epoch 00003: val_acc did not improve\n",
      "83s - loss: 1.3866 - acc: 0.5154 - val_loss: 1.5896 - val_acc: 0.4672\n",
      "Epoch 5/15\n",
      "Epoch 00004: val_acc did not improve\n",
      "83s - loss: 1.3906 - acc: 0.5179 - val_loss: 1.5414 - val_acc: 0.4808\n",
      "Epoch 6/15\n",
      "Epoch 00005: val_acc did not improve\n",
      "83s - loss: 1.3772 - acc: 0.5100 - val_loss: 1.5437 - val_acc: 0.4776\n",
      "Epoch 7/15\n",
      "Epoch 00006: val_acc did not improve\n",
      "82s - loss: 1.3586 - acc: 0.5279 - val_loss: 1.5480 - val_acc: 0.4872\n",
      "Epoch 8/15\n",
      "Epoch 00007: val_acc did not improve\n",
      "83s - loss: 1.3693 - acc: 0.5215 - val_loss: 1.5888 - val_acc: 0.4471\n",
      "Epoch 9/15\n",
      "Epoch 00008: val_acc did not improve\n",
      "83s - loss: 1.3448 - acc: 0.5303 - val_loss: 1.5436 - val_acc: 0.4840\n",
      "Epoch 10/15\n",
      "Epoch 00009: val_acc did not improve\n",
      "83s - loss: 1.3627 - acc: 0.5222 - val_loss: 1.5800 - val_acc: 0.4712\n",
      "Epoch 11/15\n",
      "Epoch 00010: val_acc did not improve\n",
      "83s - loss: 1.3119 - acc: 0.5323 - val_loss: 1.5369 - val_acc: 0.4824\n",
      "Epoch 12/15\n",
      "Epoch 00011: val_acc did not improve\n",
      "83s - loss: 1.3698 - acc: 0.5269 - val_loss: 1.5392 - val_acc: 0.4792\n",
      "Epoch 13/15\n",
      "Epoch 00012: val_acc did not improve\n",
      "82s - loss: 1.3219 - acc: 0.5418 - val_loss: 1.5976 - val_acc: 0.4519\n",
      "Epoch 14/15\n",
      "Epoch 00013: val_acc improved from 0.48878 to 0.49519, saving model to /home/paperspace/IEEE/xceptionFineTuneWeights.best.hdf5\n",
      "83s - loss: 1.2876 - acc: 0.5569 - val_loss: 1.4956 - val_acc: 0.4952\n",
      "Epoch 15/15\n",
      "Epoch 00014: val_acc did not improve\n",
      "84s - loss: 1.3351 - acc: 0.5276 - val_loss: 1.5366 - val_acc: 0.4781\n"
     ]
    },
    {
     "data": {
      "text/plain": [
       "<keras.callbacks.History at 0x7f4ba1df07b8>"
      ]
     },
     "execution_count": 27,
     "metadata": {},
     "output_type": "execute_result"
    }
   ],
   "source": [
    "batch_size = 64\n",
    "train_gen, valid_gen = define_generators(batch_size, 'xception')\n",
    "\n",
    "xception_ft.fit_generator(train_gen,\n",
    "                        steps_per_epoch=X_train.shape[0]//batch_size,\n",
    "                        epochs=15,\n",
    "                        validation_data=valid_gen,\n",
    "                        verbose=2,\n",
    "                        validation_steps=X_val.shape[0]//batch_size,\n",
    "                        callbacks=callbacks_xception_ft)"
   ]
  },
  {
   "cell_type": "code",
   "execution_count": 29,
   "metadata": {},
   "outputs": [
    {
     "name": "stdout",
     "output_type": "stream",
     "text": [
      "Epoch 1/3\n",
      "Epoch 00000: val_acc did not improve\n",
      "89s - loss: 1.3148 - acc: 0.5462 - val_loss: 1.5609 - val_acc: 0.4679\n",
      "Epoch 2/3\n",
      "Epoch 00001: val_acc improved from 0.49519 to 0.50481, saving model to /home/paperspace/IEEE/xceptionFineTuneWeights.best.hdf5\n",
      "84s - loss: 1.2939 - acc: 0.5436 - val_loss: 1.4784 - val_acc: 0.5048\n",
      "Epoch 3/3\n",
      "Epoch 00002: val_acc did not improve\n",
      "83s - loss: 1.2585 - acc: 0.5631 - val_loss: 1.4582 - val_acc: 0.4968\n"
     ]
    },
    {
     "data": {
      "text/plain": [
       "<keras.callbacks.History at 0x7f4b99aa9e10>"
      ]
     },
     "execution_count": 29,
     "metadata": {},
     "output_type": "execute_result"
    }
   ],
   "source": [
    "xception_ft.compile(optimizer=SGD(lr=0.001, momentum=0.9), loss='categorical_crossentropy', metrics=['accuracy'])\n",
    "\n",
    "xception_ft.fit_generator(train_gen,\n",
    "                        steps_per_epoch=X_train.shape[0]//batch_size,\n",
    "                        epochs=3,\n",
    "                        validation_data=valid_gen,\n",
    "                        verbose=2,\n",
    "                        validation_steps=X_val.shape[0]//batch_size,\n",
    "                        callbacks=callbacks_xception_ft)"
   ]
  },
  {
   "cell_type": "markdown",
   "metadata": {},
   "source": [
    "## VGG16"
   ]
  },
  {
   "cell_type": "code",
   "execution_count": 15,
   "metadata": {},
   "outputs": [
    {
     "name": "stderr",
     "output_type": "stream",
     "text": [
      "/home/paperspace/anaconda3/lib/python3.6/site-packages/ipykernel_launcher.py:84: UserWarning: Update your `Model` call to the Keras 2 API: `Model(inputs=Tensor(\"in..., outputs=Tensor(\"de...)`\n"
     ]
    }
   ],
   "source": [
    "vgg16_b, callbacks_vgg16_b = build_on_bottleneck('vgg16')\n",
    "#vgg16_b.summary()"
   ]
  },
  {
   "cell_type": "code",
   "execution_count": 16,
   "metadata": {},
   "outputs": [
    {
     "name": "stdout",
     "output_type": "stream",
     "text": [
      "Train Shape: (1830, 2)\n",
      "Validation Shape: (920, 2)\n",
      "copying training files to /home/paperspace/IEEE/crossval/training...\n",
      "copying validation files to /home/paperspace/IEEE/crossval/validation...\n",
      "**** Running fold 0\n",
      "Found 1830 images belonging to 10 classes.\n",
      "Found 920 images belonging to 10 classes.\n",
      "Epoch 1/10\n",
      "Epoch 00000: val_acc improved from -inf to 0.20536, saving model to /home/paperspace/IEEE/vgg16BottleneckWeights.best.hdf5\n",
      "51s - loss: 2.7839 - acc: 0.1401 - val_loss: 4.1940 - val_acc: 0.2054\n",
      "Epoch 2/10\n",
      "Epoch 00001: val_acc improved from 0.20536 to 0.25234, saving model to /home/paperspace/IEEE/vgg16BottleneckWeights.best.hdf5\n",
      "40s - loss: 2.2474 - acc: 0.2324 - val_loss: 2.7579 - val_acc: 0.2523\n",
      "Epoch 3/10\n",
      "Epoch 00002: val_acc improved from 0.25234 to 0.30257, saving model to /home/paperspace/IEEE/vgg16BottleneckWeights.best.hdf5\n",
      "36s - loss: 2.1540 - acc: 0.2572 - val_loss: 2.1595 - val_acc: 0.3026\n",
      "Epoch 4/10\n",
      "Epoch 00003: val_acc improved from 0.30257 to 0.33178, saving model to /home/paperspace/IEEE/vgg16BottleneckWeights.best.hdf5\n",
      "35s - loss: 1.9397 - acc: 0.3225 - val_loss: 1.9966 - val_acc: 0.3318\n",
      "Epoch 5/10\n",
      "Epoch 00004: val_acc improved from 0.33178 to 0.35631, saving model to /home/paperspace/IEEE/vgg16BottleneckWeights.best.hdf5\n",
      "36s - loss: 1.9178 - acc: 0.3363 - val_loss: 1.8721 - val_acc: 0.3563\n",
      "Epoch 6/10\n",
      "Epoch 00005: val_acc did not improve\n",
      "35s - loss: 1.8016 - acc: 0.3716 - val_loss: 1.8356 - val_acc: 0.3481\n",
      "Epoch 7/10\n",
      "Epoch 00006: val_acc improved from 0.35631 to 0.38201, saving model to /home/paperspace/IEEE/vgg16BottleneckWeights.best.hdf5\n",
      "35s - loss: 1.7309 - acc: 0.3943 - val_loss: 1.7347 - val_acc: 0.3820\n",
      "Epoch 8/10\n",
      "Epoch 00007: val_acc improved from 0.38201 to 0.40654, saving model to /home/paperspace/IEEE/vgg16BottleneckWeights.best.hdf5\n",
      "35s - loss: 1.6630 - acc: 0.4176 - val_loss: 1.7314 - val_acc: 0.4065\n",
      "Epoch 9/10\n",
      "Epoch 00008: val_acc improved from 0.40654 to 0.40888, saving model to /home/paperspace/IEEE/vgg16BottleneckWeights.best.hdf5\n",
      "35s - loss: 1.5867 - acc: 0.4615 - val_loss: 1.7325 - val_acc: 0.4089\n",
      "Epoch 10/10\n",
      "Epoch 00009: val_acc did not improve\n",
      "34s - loss: 1.5506 - acc: 0.4592 - val_loss: 1.7085 - val_acc: 0.3995\n"
     ]
    }
   ],
   "source": [
    "df_y = data['class']\n",
    "df_x = data['filename']\n",
    "batch_size = 64\n",
    "\n",
    "skf = StratifiedKFold(n_splits = 3)\n",
    "#total_actual = []\n",
    "#total_predicted = []\n",
    "#total_val_accuracy = []\n",
    "#total_val_loss = []\n",
    "#total_test_accuracy = []\n",
    "\n",
    "for i, (train_index, test_index) in enumerate(skf.split(df_x, df_y)):\n",
    "    x_train, x_val = df_x.iloc[train_index], df_x.iloc[test_index]\n",
    "    y_train, y_val = df_y.iloc[train_index], df_y.iloc[test_index]\n",
    "\n",
    "    train = pd.concat([x_train, y_train], axis=1)\n",
    "    validation = pd.concat([x_val, y_val], axis = 1)\n",
    "    print('Train Shape:', train.shape)\n",
    "    print('Validation Shape:', validation.shape)\n",
    "    #print(validation.groupby(['class'])['class'].count())\n",
    "    \n",
    "    # copy the images according to the fold\n",
    "    copy_images(train, 'training')\n",
    "    copy_images(validation, 'validation')\n",
    "\n",
    "    print('**** Running fold '+ str(i))\n",
    "    \n",
    "    train_gen, valid_gen = define_generators(batch_size, 'vgg16')\n",
    "    \n",
    "    vgg16_b.fit_generator(train_gen,\n",
    "                        steps_per_epoch=x_train.shape[0]//batch_size,\n",
    "                        epochs=10,\n",
    "                        validation_data=valid_gen,\n",
    "                        verbose=2,\n",
    "                        validation_steps=x_val.shape[0]//batch_size,\n",
    "                        callbacks=callbacks_vgg16_b)\n",
    "    break"
   ]
  },
  {
   "cell_type": "markdown",
   "metadata": {},
   "source": [
    "## ResNet50"
   ]
  },
  {
   "cell_type": "code",
   "execution_count": 30,
   "metadata": {},
   "outputs": [
    {
     "name": "stderr",
     "output_type": "stream",
     "text": [
      "/home/paperspace/anaconda3/lib/python3.6/site-packages/ipykernel_launcher.py:127: UserWarning: Update your `Model` call to the Keras 2 API: `Model(inputs=Tensor(\"in..., outputs=Tensor(\"de...)`\n"
     ]
    }
   ],
   "source": [
    "resnet50_b, callbacks_resnet50_b = build_on_bottleneck('resnet50')\n",
    "#resnet50_b.summary()"
   ]
  },
  {
   "cell_type": "code",
   "execution_count": 37,
   "metadata": {},
   "outputs": [
    {
     "name": "stdout",
     "output_type": "stream",
     "text": [
      "Train Shape: (2060, 2)\n",
      "Validation Shape: (690, 2)\n",
      "copying training files to /home/paperspace/IEEE/crossval/training...\n",
      "copying validation files to /home/paperspace/IEEE/crossval/validation...\n",
      "**** Running fold 0\n",
      "Found 2060 images belonging to 10 classes.\n",
      "Found 690 images belonging to 10 classes.\n",
      "Epoch 1/10\n",
      "Epoch 00000: val_acc improved from -inf to 0.25312, saving model to /home/paperspace/IEEE/resnet50BottleneckWeights.best.hdf5\n",
      "85s - loss: 2.5937 - acc: 0.1802 - val_loss: 2.1059 - val_acc: 0.2531\n",
      "Epoch 2/10\n",
      "Epoch 00001: val_acc improved from 0.25312 to 0.36875, saving model to /home/paperspace/IEEE/resnet50BottleneckWeights.best.hdf5\n",
      "37s - loss: 2.0246 - acc: 0.3113 - val_loss: 1.7969 - val_acc: 0.3688\n",
      "Epoch 3/10\n",
      "Epoch 00002: val_acc improved from 0.36875 to 0.44844, saving model to /home/paperspace/IEEE/resnet50BottleneckWeights.best.hdf5\n",
      "39s - loss: 1.7949 - acc: 0.3825 - val_loss: 1.6114 - val_acc: 0.4484\n",
      "Epoch 4/10\n",
      "Epoch 00003: val_acc improved from 0.44844 to 0.51094, saving model to /home/paperspace/IEEE/resnet50BottleneckWeights.best.hdf5\n",
      "39s - loss: 1.6230 - acc: 0.4262 - val_loss: 1.5092 - val_acc: 0.5109\n",
      "Epoch 5/10\n",
      "Epoch 00004: val_acc improved from 0.51094 to 0.52656, saving model to /home/paperspace/IEEE/resnet50BottleneckWeights.best.hdf5\n",
      "39s - loss: 1.4828 - acc: 0.4840 - val_loss: 1.4292 - val_acc: 0.5266\n",
      "Epoch 6/10\n",
      "Epoch 00005: val_acc improved from 0.52656 to 0.53281, saving model to /home/paperspace/IEEE/resnet50BottleneckWeights.best.hdf5\n",
      "39s - loss: 1.3505 - acc: 0.5380 - val_loss: 1.3934 - val_acc: 0.5328\n",
      "Epoch 7/10\n",
      "Epoch 00006: val_acc improved from 0.53281 to 0.56563, saving model to /home/paperspace/IEEE/resnet50BottleneckWeights.best.hdf5\n",
      "39s - loss: 1.3140 - acc: 0.5524 - val_loss: 1.3456 - val_acc: 0.5656\n",
      "Epoch 8/10\n",
      "Epoch 00007: val_acc did not improve\n",
      "38s - loss: 1.2304 - acc: 0.5712 - val_loss: 1.3569 - val_acc: 0.5578\n",
      "Epoch 9/10\n",
      "Epoch 00008: val_acc improved from 0.56563 to 0.58750, saving model to /home/paperspace/IEEE/resnet50BottleneckWeights.best.hdf5\n",
      "39s - loss: 1.2275 - acc: 0.5729 - val_loss: 1.2808 - val_acc: 0.5875\n",
      "Epoch 10/10\n",
      "Epoch 00009: val_acc did not improve\n",
      "38s - loss: 1.0789 - acc: 0.6342 - val_loss: 1.3163 - val_acc: 0.5844\n"
     ]
    }
   ],
   "source": [
    "df_y = data['class']\n",
    "df_x = data['filename']\n",
    "batch_size = 64\n",
    "\n",
    "skf = StratifiedKFold(n_splits = 4)\n",
    "#total_actual = []\n",
    "#total_predicted = []\n",
    "#total_val_accuracy = []\n",
    "#total_val_loss = []\n",
    "#total_test_accuracy = []\n",
    "\n",
    "for i, (train_index, test_index) in enumerate(skf.split(df_x, df_y)):\n",
    "    x_train, x_val = df_x.iloc[train_index], df_x.iloc[test_index]\n",
    "    y_train, y_val = df_y.iloc[train_index], df_y.iloc[test_index]\n",
    "\n",
    "    train = pd.concat([x_train, y_train], axis=1)\n",
    "    validation = pd.concat([x_val, y_val], axis = 1)\n",
    "    print('Train Shape:', train.shape)\n",
    "    print('Validation Shape:', validation.shape)\n",
    "    #print(validation.groupby(['class'])['class'].count())\n",
    "    \n",
    "    # copy the images according to the fold\n",
    "    copy_images(train, 'training')\n",
    "    copy_images(validation, 'validation')\n",
    "\n",
    "    print('**** Running fold '+ str(i))\n",
    "    \n",
    "    train_gen, valid_gen = define_generators(batch_size, 'resnet50')\n",
    "    \n",
    "    resnet50_b.fit_generator(train_gen,\n",
    "                        steps_per_epoch=x_train.shape[0]//batch_size,\n",
    "                        epochs=10,\n",
    "                        validation_data=valid_gen,\n",
    "                        verbose=2,\n",
    "                        validation_steps=x_val.shape[0]//batch_size,\n",
    "                        callbacks=callbacks_resnet50_b)\n",
    "    break"
   ]
  },
  {
   "cell_type": "code",
   "execution_count": 10,
   "metadata": {},
   "outputs": [
    {
     "name": "stderr",
     "output_type": "stream",
     "text": [
      "/home/paperspace/anaconda3/lib/python3.6/site-packages/ipykernel_launcher.py:183: UserWarning: Update your `Model` call to the Keras 2 API: `Model(inputs=Tensor(\"in..., outputs=Tensor(\"de...)`\n"
     ]
    }
   ],
   "source": [
    "resnet50_ft, callbacks_resnet50_ft = fine_tune('resnet50', 78)"
   ]
  },
  {
   "cell_type": "code",
   "execution_count": 16,
   "metadata": {
    "collapsed": true
   },
   "outputs": [],
   "source": [
    "resnet50_ft.compile(optimizer=SGD(lr=0.0001, momentum=0.9), loss='categorical_crossentropy', metrics=['accuracy'])"
   ]
  },
  {
   "cell_type": "code",
   "execution_count": 17,
   "metadata": {},
   "outputs": [
    {
     "name": "stdout",
     "output_type": "stream",
     "text": [
      "Train Shape: (2060, 2)\n",
      "Validation Shape: (690, 2)\n",
      "copying training files to /home/paperspace/IEEE/crossval/training...\n",
      "copying validation files to /home/paperspace/IEEE/crossval/validation...\n",
      "**** Running fold 0\n",
      "Found 2060 images belonging to 10 classes.\n",
      "Found 690 images belonging to 10 classes.\n",
      "Epoch 1/10\n",
      "Epoch 00000: val_acc improved from -inf to 0.72656, saving model to /home/paperspace/IEEE/resnet50FineTuneWeights.best.hdf5\n",
      "79s - loss: 1.2352 - acc: 0.5806 - val_loss: 0.7912 - val_acc: 0.7266\n",
      "Epoch 2/10\n",
      "Epoch 00001: val_acc did not improve\n",
      "47s - loss: 1.2185 - acc: 0.5782 - val_loss: 0.8044 - val_acc: 0.7250\n",
      "Epoch 3/10\n",
      "Epoch 00002: val_acc did not improve\n",
      "47s - loss: 1.1842 - acc: 0.5927 - val_loss: 0.8223 - val_acc: 0.7141\n",
      "Epoch 4/10\n",
      "Epoch 00003: val_acc improved from 0.72656 to 0.73438, saving model to /home/paperspace/IEEE/resnet50FineTuneWeights.best.hdf5\n",
      "52s - loss: 1.1990 - acc: 0.5932 - val_loss: 0.7922 - val_acc: 0.7344\n",
      "Epoch 5/10\n",
      "Epoch 00004: val_acc did not improve\n",
      "49s - loss: 1.1178 - acc: 0.6222 - val_loss: 0.7984 - val_acc: 0.7203\n",
      "Epoch 6/10\n",
      "Epoch 00005: val_acc did not improve\n",
      "52s - loss: 1.1697 - acc: 0.5977 - val_loss: 0.8075 - val_acc: 0.7250\n",
      "Epoch 7/10\n",
      "Epoch 00006: val_acc did not improve\n",
      "45s - loss: 1.1132 - acc: 0.6256 - val_loss: 0.7905 - val_acc: 0.7297\n",
      "Epoch 8/10\n",
      "Epoch 00007: val_acc did not improve\n",
      "50s - loss: 1.1118 - acc: 0.6167 - val_loss: 0.7882 - val_acc: 0.7312\n",
      "Epoch 9/10\n",
      "Epoch 00008: val_acc did not improve\n",
      "51s - loss: 1.1602 - acc: 0.5993 - val_loss: 0.7926 - val_acc: 0.7281\n",
      "Epoch 10/10\n",
      "Epoch 00009: val_acc improved from 0.73438 to 0.74062, saving model to /home/paperspace/IEEE/resnet50FineTuneWeights.best.hdf5\n",
      "51s - loss: 1.0469 - acc: 0.6355 - val_loss: 0.7832 - val_acc: 0.7406\n"
     ]
    }
   ],
   "source": [
    "df_y = data['class']\n",
    "df_x = data['filename']\n",
    "batch_size = 64\n",
    "\n",
    "skf = StratifiedKFold(n_splits = 4)\n",
    "\n",
    "for i, (train_index, test_index) in enumerate(skf.split(df_x, df_y)):\n",
    "    x_train, x_val = df_x.iloc[train_index], df_x.iloc[test_index]\n",
    "    y_train, y_val = df_y.iloc[train_index], df_y.iloc[test_index]\n",
    "\n",
    "    train = pd.concat([x_train, y_train], axis=1)\n",
    "    validation = pd.concat([x_val, y_val], axis = 1)\n",
    "    print('Train Shape:', train.shape)\n",
    "    print('Validation Shape:', validation.shape)\n",
    "    \n",
    "    # copy the images according to the fold\n",
    "    copy_images(train, 'training')\n",
    "    copy_images(validation, 'validation')\n",
    "\n",
    "    print('**** Running fold '+ str(i))\n",
    "    \n",
    "    train_gen, valid_gen = define_generators(batch_size, 'resnet50')\n",
    "    \n",
    "    resnet50_ft.fit_generator(train_gen,\n",
    "                        steps_per_epoch=x_train.shape[0]//batch_size,\n",
    "                        epochs=10,\n",
    "                        validation_data=valid_gen,\n",
    "                        verbose=2,\n",
    "                        validation_steps=x_val.shape[0]//batch_size,\n",
    "                        callbacks=callbacks_resnet50_ft)\n",
    "    break"
   ]
  },
  {
   "cell_type": "code",
   "execution_count": 18,
   "metadata": {},
   "outputs": [
    {
     "name": "stdout",
     "output_type": "stream",
     "text": [
      "Epoch 1/10\n",
      "Epoch 00000: val_acc improved from 0.74062 to 0.75625, saving model to /home/paperspace/IEEE/resnet50FineTuneWeights.best.hdf5\n",
      "59s - loss: 1.1126 - acc: 0.6264 - val_loss: 0.7633 - val_acc: 0.7562\n",
      "Epoch 2/10\n",
      "Epoch 00001: val_acc did not improve\n",
      "48s - loss: 1.0778 - acc: 0.6300 - val_loss: 0.7697 - val_acc: 0.7438\n",
      "Epoch 3/10\n",
      "Epoch 00002: val_acc did not improve\n",
      "49s - loss: 1.0699 - acc: 0.6438 - val_loss: 0.7648 - val_acc: 0.7422\n",
      "Epoch 4/10\n",
      "Epoch 00003: val_acc did not improve\n",
      "52s - loss: 1.0371 - acc: 0.6361 - val_loss: 0.7574 - val_acc: 0.7328\n",
      "Epoch 5/10\n",
      "Epoch 00004: val_acc did not improve\n",
      "46s - loss: 1.0404 - acc: 0.6343 - val_loss: 0.7702 - val_acc: 0.7391\n",
      "Epoch 6/10\n",
      "Epoch 00005: val_acc did not improve\n",
      "49s - loss: 1.0141 - acc: 0.6603 - val_loss: 0.7790 - val_acc: 0.7375\n",
      "Epoch 7/10\n",
      "Epoch 00006: val_acc did not improve\n",
      "48s - loss: 1.0205 - acc: 0.6469 - val_loss: 0.7450 - val_acc: 0.7531\n",
      "Epoch 8/10\n",
      "Epoch 00007: val_acc did not improve\n",
      "48s - loss: 1.0168 - acc: 0.6670 - val_loss: 0.7585 - val_acc: 0.7406\n",
      "Epoch 9/10\n",
      "Epoch 00008: val_acc did not improve\n",
      "52s - loss: 0.9808 - acc: 0.6643 - val_loss: 0.7611 - val_acc: 0.7438\n",
      "Epoch 10/10\n",
      "Epoch 00009: val_acc improved from 0.75625 to 0.76094, saving model to /home/paperspace/IEEE/resnet50FineTuneWeights.best.hdf5\n",
      "52s - loss: 0.9879 - acc: 0.6485 - val_loss: 0.7247 - val_acc: 0.7609\n"
     ]
    },
    {
     "data": {
      "text/plain": [
       "<keras.callbacks.History at 0x7f42a8609668>"
      ]
     },
     "execution_count": 18,
     "metadata": {},
     "output_type": "execute_result"
    }
   ],
   "source": [
    "resnet50_ft.fit_generator(train_gen,\n",
    "                        steps_per_epoch=x_train.shape[0]//batch_size,\n",
    "                        epochs=10,\n",
    "                        validation_data=valid_gen,\n",
    "                        verbose=2,\n",
    "                        validation_steps=x_val.shape[0]//batch_size,\n",
    "                        callbacks=callbacks_resnet50_ft)"
   ]
  },
  {
   "cell_type": "code",
   "execution_count": 19,
   "metadata": {},
   "outputs": [
    {
     "name": "stdout",
     "output_type": "stream",
     "text": [
      "Epoch 1/3\n",
      "Epoch 00000: val_acc did not improve\n",
      "66s - loss: 1.7690 - acc: 0.4601 - val_loss: 14.2435 - val_acc: 0.1016\n",
      "Epoch 2/3\n",
      "Epoch 00001: val_acc did not improve\n",
      "46s - loss: 1.5898 - acc: 0.4697 - val_loss: 14.6031 - val_acc: 0.0891\n",
      "Epoch 3/3\n",
      "Epoch 00002: val_acc did not improve\n",
      "50s - loss: 1.3333 - acc: 0.5672 - val_loss: 12.4576 - val_acc: 0.1406\n"
     ]
    },
    {
     "data": {
      "text/plain": [
       "<keras.callbacks.History at 0x7f42a86253c8>"
      ]
     },
     "execution_count": 19,
     "metadata": {},
     "output_type": "execute_result"
    }
   ],
   "source": [
    "resnet50_ft.compile(optimizer='adam', loss='categorical_crossentropy', metrics=['accuracy'])\n",
    "\n",
    "resnet50_ft.fit_generator(train_gen,\n",
    "                        steps_per_epoch=x_train.shape[0]//batch_size,\n",
    "                        epochs=3,\n",
    "                        validation_data=valid_gen,\n",
    "                        verbose=2,\n",
    "                        validation_steps=x_val.shape[0]//batch_size,\n",
    "                        callbacks=callbacks_resnet50_ft)"
   ]
  },
  {
   "cell_type": "code",
   "execution_count": 20,
   "metadata": {},
   "outputs": [
    {
     "name": "stdout",
     "output_type": "stream",
     "text": [
      "Epoch 1/3\n",
      "Epoch 00000: val_acc did not improve\n",
      "66s - loss: 0.9577 - acc: 0.6733 - val_loss: 0.7205 - val_acc: 0.7562\n",
      "Epoch 2/3\n",
      "Epoch 00001: val_acc improved from 0.76094 to 0.76406, saving model to /home/paperspace/IEEE/resnet50FineTuneWeights.best.hdf5\n",
      "54s - loss: 0.9129 - acc: 0.6923 - val_loss: 0.6986 - val_acc: 0.7641\n",
      "Epoch 3/3\n",
      "Epoch 00002: val_acc improved from 0.76406 to 0.77344, saving model to /home/paperspace/IEEE/resnet50FineTuneWeights.best.hdf5\n",
      "52s - loss: 0.8689 - acc: 0.7087 - val_loss: 0.6929 - val_acc: 0.7734\n"
     ]
    },
    {
     "data": {
      "text/plain": [
       "<keras.callbacks.History at 0x7f424edf0ba8>"
      ]
     },
     "execution_count": 20,
     "metadata": {},
     "output_type": "execute_result"
    }
   ],
   "source": [
    "resnet50_ft.load_weights('./IEEE/resnet50FineTuneWeights.best.hdf5')\n",
    "\n",
    "resnet50_ft.compile(optimizer=SGD(lr=0.001, momentum=0.9), loss='categorical_crossentropy', metrics=['accuracy'])\n",
    "\n",
    "resnet50_ft.fit_generator(train_gen,\n",
    "                        steps_per_epoch=x_train.shape[0]//batch_size,\n",
    "                        epochs=3,\n",
    "                        validation_data=valid_gen,\n",
    "                        verbose=2,\n",
    "                        validation_steps=x_val.shape[0]//batch_size,\n",
    "                        callbacks=callbacks_resnet50_ft)"
   ]
  },
  {
   "cell_type": "code",
   "execution_count": 21,
   "metadata": {},
   "outputs": [
    {
     "name": "stdout",
     "output_type": "stream",
     "text": [
      "Epoch 1/3\n",
      "Epoch 00000: val_acc improved from 0.77344 to 0.77812, saving model to /home/paperspace/IEEE/resnet50FineTuneWeights.best.hdf5\n",
      "62s - loss: 0.7810 - acc: 0.7421 - val_loss: 0.6566 - val_acc: 0.7781\n",
      "Epoch 2/3\n",
      "Epoch 00001: val_acc did not improve\n",
      "48s - loss: 0.7668 - acc: 0.7365 - val_loss: 0.6822 - val_acc: 0.7719\n",
      "Epoch 3/3\n",
      "Epoch 00002: val_acc did not improve\n",
      "50s - loss: 0.6666 - acc: 0.7744 - val_loss: 0.6849 - val_acc: 0.7609\n"
     ]
    },
    {
     "data": {
      "text/plain": [
       "<keras.callbacks.History at 0x7f424a585b38>"
      ]
     },
     "execution_count": 21,
     "metadata": {},
     "output_type": "execute_result"
    }
   ],
   "source": [
    "resnet50_ft.fit_generator(train_gen,\n",
    "                        steps_per_epoch=x_train.shape[0]//batch_size,\n",
    "                        epochs=3,\n",
    "                        validation_data=valid_gen,\n",
    "                        verbose=2,\n",
    "                        validation_steps=x_val.shape[0]//batch_size,\n",
    "                        callbacks=callbacks_resnet50_ft)"
   ]
  },
  {
   "cell_type": "code",
   "execution_count": 14,
   "metadata": {},
   "outputs": [
    {
     "name": "stderr",
     "output_type": "stream",
     "text": [
      "/home/paperspace/anaconda3/lib/python3.6/site-packages/ipykernel_launcher.py:183: UserWarning: Update your `Model` call to the Keras 2 API: `Model(inputs=Tensor(\"in..., outputs=Tensor(\"de...)`\n"
     ]
    },
    {
     "name": "stdout",
     "output_type": "stream",
     "text": [
      "Found 2062 images belonging to 10 classes.\n",
      "Found 688 images belonging to 10 classes.\n",
      "Epoch 1/10\n",
      "Epoch 00000: val_acc improved from -inf to 0.89286, saving model to /home/paperspace/IEEE/resnet50FineTuneWeights.best.hdf5\n",
      "110s - loss: 0.6448 - acc: 0.7891 - val_loss: 0.3514 - val_acc: 0.8929\n",
      "Epoch 2/10\n",
      "Epoch 00001: val_acc did not improve\n",
      "65s - loss: 0.6412 - acc: 0.7806 - val_loss: 0.3767 - val_acc: 0.8857\n",
      "Epoch 3/10\n",
      "Epoch 00002: val_acc did not improve\n",
      "65s - loss: 0.6310 - acc: 0.7801 - val_loss: 0.3637 - val_acc: 0.8918\n",
      "Epoch 4/10\n",
      "Epoch 00003: val_acc improved from 0.89286 to 0.89482, saving model to /home/paperspace/IEEE/resnet50FineTuneWeights.best.hdf5\n",
      "66s - loss: 0.5940 - acc: 0.7941 - val_loss: 0.3553 - val_acc: 0.8948\n",
      "Epoch 5/10\n",
      "Epoch 00004: val_acc did not improve\n",
      "65s - loss: 0.6123 - acc: 0.7927 - val_loss: 0.3704 - val_acc: 0.8918\n",
      "Epoch 6/10\n",
      "Epoch 00005: val_acc improved from 0.89482 to 0.89939, saving model to /home/paperspace/IEEE/resnet50FineTuneWeights.best.hdf5\n",
      "66s - loss: 0.6148 - acc: 0.7990 - val_loss: 0.3351 - val_acc: 0.8994\n",
      "Epoch 7/10\n",
      "Epoch 00006: val_acc improved from 0.89939 to 0.90854, saving model to /home/paperspace/IEEE/resnet50FineTuneWeights.best.hdf5\n",
      "66s - loss: 0.5695 - acc: 0.7969 - val_loss: 0.3085 - val_acc: 0.9085\n",
      "Epoch 8/10\n",
      "Epoch 00007: val_acc did not improve\n",
      "65s - loss: 0.5680 - acc: 0.8106 - val_loss: 0.3304 - val_acc: 0.9009\n",
      "Epoch 9/10\n",
      "Epoch 00008: val_acc did not improve\n",
      "65s - loss: 0.5492 - acc: 0.8193 - val_loss: 0.3088 - val_acc: 0.9024\n",
      "Epoch 10/10\n",
      "Epoch 00009: val_acc did not improve\n",
      "65s - loss: 0.5407 - acc: 0.8178 - val_loss: 0.3126 - val_acc: 0.9055\n"
     ]
    },
    {
     "data": {
      "text/plain": [
       "<keras.callbacks.History at 0x7f8650685f28>"
      ]
     },
     "execution_count": 14,
     "metadata": {},
     "output_type": "execute_result"
    }
   ],
   "source": [
    "batch_size = 32\n",
    "\n",
    "resnet50_ft, callbacks_resnet50_ft = fine_tune('resnet50', 2)\n",
    "\n",
    "resnet50_ft.load_weights('./IEEE/resnet50FineTuneWeights.best.hdf5')\n",
    "\n",
    "train_gen, valid_gen = define_generators(batch_size, 'resnet50')\n",
    "\n",
    "resnet50_ft.compile(optimizer=SGD(lr=0.0001, momentum=0.9), loss='categorical_crossentropy', metrics=['accuracy'])\n",
    "\n",
    "resnet50_ft.fit_generator(train_gen,\n",
    "                        steps_per_epoch=X_train.shape[0]//batch_size,\n",
    "                        epochs=10,\n",
    "                        validation_data=valid_gen,\n",
    "                        verbose=2,\n",
    "                        validation_steps=X_val.shape[0]//batch_size,\n",
    "                        callbacks=callbacks_resnet50_ft)"
   ]
  },
  {
   "cell_type": "markdown",
   "metadata": {},
   "source": [
    "## Inception V3"
   ]
  },
  {
   "cell_type": "code",
   "execution_count": 45,
   "metadata": {},
   "outputs": [
    {
     "name": "stderr",
     "output_type": "stream",
     "text": [
      "/home/paperspace/anaconda3/lib/python3.6/site-packages/ipykernel_launcher.py:104: UserWarning: Update your `Model` call to the Keras 2 API: `Model(inputs=Tensor(\"in..., outputs=Tensor(\"de...)`\n"
     ]
    }
   ],
   "source": [
    "inception_v3_b, callbacks_inception_v3_b = build_on_bottleneck('inception_v3')\n",
    "#inception_v3_b.summary()"
   ]
  },
  {
   "cell_type": "code",
   "execution_count": 46,
   "metadata": {},
   "outputs": [
    {
     "name": "stdout",
     "output_type": "stream",
     "text": [
      "Train Shape: (2060, 2)\n",
      "Validation Shape: (690, 2)\n",
      "copying training files to /home/paperspace/IEEE/crossval/training...\n",
      "copying validation files to /home/paperspace/IEEE/crossval/validation...\n",
      "**** Running fold 0\n",
      "Found 2060 images belonging to 10 classes.\n",
      "Found 690 images belonging to 10 classes.\n",
      "Epoch 1/10\n",
      "Epoch 00000: val_acc improved from -inf to 0.23750, saving model to /home/paperspace/IEEE/inception_v3BottleneckWeights.best.hdf5\n",
      "183s - loss: 2.4807 - acc: 0.1567 - val_loss: 2.0683 - val_acc: 0.2375\n",
      "Epoch 2/10\n",
      "Epoch 00001: val_acc improved from 0.23750 to 0.33125, saving model to /home/paperspace/IEEE/inception_v3BottleneckWeights.best.hdf5\n",
      "60s - loss: 1.9887 - acc: 0.3120 - val_loss: 1.9132 - val_acc: 0.3312\n",
      "Epoch 3/10\n",
      "Epoch 00002: val_acc improved from 0.33125 to 0.37500, saving model to /home/paperspace/IEEE/inception_v3BottleneckWeights.best.hdf5\n",
      "69s - loss: 1.8264 - acc: 0.3344 - val_loss: 1.7917 - val_acc: 0.3750\n",
      "Epoch 4/10\n",
      "Epoch 00003: val_acc improved from 0.37500 to 0.40469, saving model to /home/paperspace/IEEE/inception_v3BottleneckWeights.best.hdf5\n",
      "66s - loss: 1.7050 - acc: 0.4027 - val_loss: 1.7293 - val_acc: 0.4047\n",
      "Epoch 5/10\n",
      "Epoch 00004: val_acc did not improve\n",
      "67s - loss: 1.6090 - acc: 0.4394 - val_loss: 1.7701 - val_acc: 0.3719\n",
      "Epoch 6/10\n",
      "Epoch 00005: val_acc improved from 0.40469 to 0.42812, saving model to /home/paperspace/IEEE/inception_v3BottleneckWeights.best.hdf5\n",
      "69s - loss: 1.5774 - acc: 0.4412 - val_loss: 1.7248 - val_acc: 0.4281\n",
      "Epoch 7/10\n",
      "Epoch 00006: val_acc did not improve\n",
      "65s - loss: 1.5267 - acc: 0.4706 - val_loss: 1.6873 - val_acc: 0.4073\n",
      "Epoch 8/10\n",
      "Epoch 00007: val_acc did not improve\n",
      "67s - loss: 1.4416 - acc: 0.5034 - val_loss: 1.6841 - val_acc: 0.4073\n",
      "Epoch 9/10\n",
      "Epoch 00008: val_acc improved from 0.42812 to 0.43610, saving model to /home/paperspace/IEEE/inception_v3BottleneckWeights.best.hdf5\n",
      "67s - loss: 1.4700 - acc: 0.4804 - val_loss: 1.6648 - val_acc: 0.4361\n",
      "Epoch 10/10\n",
      "Epoch 00009: val_acc improved from 0.43610 to 0.45527, saving model to /home/paperspace/IEEE/inception_v3BottleneckWeights.best.hdf5\n",
      "70s - loss: 1.4540 - acc: 0.4942 - val_loss: 1.6073 - val_acc: 0.4553\n"
     ]
    }
   ],
   "source": [
    "df_y = data['class']\n",
    "df_x = data['filename']\n",
    "batch_size = 64\n",
    "\n",
    "skf = StratifiedKFold(n_splits = 4)\n",
    "#total_actual = []\n",
    "#total_predicted = []\n",
    "#total_val_accuracy = []\n",
    "#total_val_loss = []\n",
    "#total_test_accuracy = []\n",
    "\n",
    "for i, (train_index, test_index) in enumerate(skf.split(df_x, df_y)):\n",
    "    x_train, x_val = df_x.iloc[train_index], df_x.iloc[test_index]\n",
    "    y_train, y_val = df_y.iloc[train_index], df_y.iloc[test_index]\n",
    "\n",
    "    train = pd.concat([x_train, y_train], axis=1)\n",
    "    validation = pd.concat([x_val, y_val], axis = 1)\n",
    "    print('Train Shape:', train.shape)\n",
    "    print('Validation Shape:', validation.shape)\n",
    "    #print(validation.groupby(['class'])['class'].count())\n",
    "    \n",
    "    # copy the images according to the fold\n",
    "    copy_images(train, 'training')\n",
    "    copy_images(validation, 'validation')\n",
    "\n",
    "    print('**** Running fold '+ str(i))\n",
    "    \n",
    "    train_gen, valid_gen = define_generators(batch_size, 'inception_v3')\n",
    "    \n",
    "    inception_v3_b.fit_generator(train_gen,\n",
    "                        steps_per_epoch=x_train.shape[0]//batch_size,\n",
    "                        epochs=10,\n",
    "                        validation_data=valid_gen,\n",
    "                        verbose=2,\n",
    "                        validation_steps=x_val.shape[0]//batch_size,\n",
    "                        callbacks=callbacks_inception_v3_b)\n",
    "    break"
   ]
  },
  {
   "cell_type": "code",
   "execution_count": 47,
   "metadata": {},
   "outputs": [
    {
     "name": "stderr",
     "output_type": "stream",
     "text": [
      "/home/paperspace/anaconda3/lib/python3.6/site-packages/ipykernel_launcher.py:145: UserWarning: Update your `Model` call to the Keras 2 API: `Model(inputs=Tensor(\"in..., outputs=Tensor(\"de...)`\n"
     ]
    }
   ],
   "source": [
    "inception_v3_ft, callbacks_inception_v3_ft = fine_tune('inception_v3', 249)"
   ]
  },
  {
   "cell_type": "code",
   "execution_count": 48,
   "metadata": {
    "collapsed": true
   },
   "outputs": [],
   "source": [
    "inception_v3_ft.compile(optimizer=SGD(lr=0.0001, momentum=0.9), loss='categorical_crossentropy', metrics=['accuracy'])"
   ]
  },
  {
   "cell_type": "code",
   "execution_count": 49,
   "metadata": {},
   "outputs": [
    {
     "name": "stdout",
     "output_type": "stream",
     "text": [
      "Train Shape: (2060, 2)\n",
      "Validation Shape: (690, 2)\n",
      "copying training files to /home/paperspace/IEEE/crossval/training...\n",
      "copying validation files to /home/paperspace/IEEE/crossval/validation...\n",
      "**** Running fold 0\n",
      "Found 2060 images belonging to 10 classes.\n",
      "Found 690 images belonging to 10 classes.\n",
      "Epoch 1/15\n",
      "Epoch 00000: val_acc improved from -inf to 0.54844, saving model to /home/paperspace/IEEE/inception_v3FineTuneWeights.best.hdf5\n",
      "157s - loss: 1.3783 - acc: 0.5288 - val_loss: 1.3231 - val_acc: 0.5484\n",
      "Epoch 2/15\n",
      "Epoch 00001: val_acc improved from 0.54844 to 0.56094, saving model to /home/paperspace/IEEE/inception_v3FineTuneWeights.best.hdf5\n",
      "60s - loss: 1.3452 - acc: 0.5335 - val_loss: 1.3107 - val_acc: 0.5609\n",
      "Epoch 3/15\n",
      "Epoch 00002: val_acc did not improve\n",
      "63s - loss: 1.3090 - acc: 0.5637 - val_loss: 1.3056 - val_acc: 0.5547\n",
      "Epoch 4/15\n",
      "Epoch 00003: val_acc improved from 0.56094 to 0.56406, saving model to /home/paperspace/IEEE/inception_v3FineTuneWeights.best.hdf5\n",
      "69s - loss: 1.3572 - acc: 0.5350 - val_loss: 1.2883 - val_acc: 0.5641\n",
      "Epoch 5/15\n",
      "Epoch 00004: val_acc did not improve\n",
      "64s - loss: 1.2663 - acc: 0.5634 - val_loss: 1.3020 - val_acc: 0.5625\n",
      "Epoch 6/15\n",
      "Epoch 00005: val_acc improved from 0.56406 to 0.56875, saving model to /home/paperspace/IEEE/inception_v3FineTuneWeights.best.hdf5\n",
      "69s - loss: 1.3017 - acc: 0.5623 - val_loss: 1.2878 - val_acc: 0.5687\n",
      "Epoch 7/15\n",
      "Epoch 00006: val_acc improved from 0.56875 to 0.57031, saving model to /home/paperspace/IEEE/inception_v3FineTuneWeights.best.hdf5\n",
      "66s - loss: 1.3008 - acc: 0.5654 - val_loss: 1.2905 - val_acc: 0.5703\n",
      "Epoch 8/15\n",
      "Epoch 00007: val_acc improved from 0.57031 to 0.57987, saving model to /home/paperspace/IEEE/inception_v3FineTuneWeights.best.hdf5\n",
      "69s - loss: 1.2609 - acc: 0.5804 - val_loss: 1.2781 - val_acc: 0.5799\n",
      "Epoch 9/15\n",
      "Epoch 00008: val_acc improved from 0.57987 to 0.58147, saving model to /home/paperspace/IEEE/inception_v3FineTuneWeights.best.hdf5\n",
      "67s - loss: 1.2435 - acc: 0.5770 - val_loss: 1.2601 - val_acc: 0.5815\n",
      "Epoch 10/15\n",
      "Epoch 00009: val_acc did not improve\n",
      "68s - loss: 1.2151 - acc: 0.5918 - val_loss: 1.2863 - val_acc: 0.5751\n",
      "Epoch 11/15\n",
      "Epoch 00010: val_acc improved from 0.58147 to 0.58946, saving model to /home/paperspace/IEEE/inception_v3FineTuneWeights.best.hdf5\n",
      "66s - loss: 1.2369 - acc: 0.5756 - val_loss: 1.2533 - val_acc: 0.5895\n",
      "Epoch 12/15\n",
      "Epoch 00011: val_acc did not improve\n",
      "65s - loss: 1.2517 - acc: 0.5841 - val_loss: 1.3020 - val_acc: 0.5671\n",
      "Epoch 13/15\n",
      "Epoch 00012: val_acc did not improve\n",
      "64s - loss: 1.1952 - acc: 0.5912 - val_loss: 1.2760 - val_acc: 0.5639\n",
      "Epoch 14/15\n",
      "Epoch 00013: val_acc improved from 0.58946 to 0.60383, saving model to /home/paperspace/IEEE/inception_v3FineTuneWeights.best.hdf5\n",
      "68s - loss: 1.2052 - acc: 0.5979 - val_loss: 1.2208 - val_acc: 0.6038\n",
      "Epoch 15/15\n",
      "Epoch 00014: val_acc did not improve\n",
      "64s - loss: 1.2222 - acc: 0.5906 - val_loss: 1.2640 - val_acc: 0.5879\n"
     ]
    }
   ],
   "source": [
    "df_y = data['class']\n",
    "df_x = data['filename']\n",
    "batch_size = 64\n",
    "\n",
    "skf = StratifiedKFold(n_splits = 4)\n",
    "\n",
    "for i, (train_index, test_index) in enumerate(skf.split(df_x, df_y)):\n",
    "    x_train, x_val = df_x.iloc[train_index], df_x.iloc[test_index]\n",
    "    y_train, y_val = df_y.iloc[train_index], df_y.iloc[test_index]\n",
    "\n",
    "    train = pd.concat([x_train, y_train], axis=1)\n",
    "    validation = pd.concat([x_val, y_val], axis = 1)\n",
    "    print('Train Shape:', train.shape)\n",
    "    print('Validation Shape:', validation.shape)\n",
    "    \n",
    "    # copy the images according to the fold\n",
    "    copy_images(train, 'training')\n",
    "    copy_images(validation, 'validation')\n",
    "\n",
    "    print('**** Running fold '+ str(i))\n",
    "    \n",
    "    train_gen, valid_gen = define_generators(batch_size, 'inception_v3')\n",
    "    \n",
    "    inception_v3_ft.fit_generator(train_gen,\n",
    "                        steps_per_epoch=x_train.shape[0]//batch_size,\n",
    "                        epochs=15,\n",
    "                        validation_data=valid_gen,\n",
    "                        verbose=2,\n",
    "                        validation_steps=x_val.shape[0]//batch_size,\n",
    "                        callbacks=callbacks_inception_v3_ft)\n",
    "    break"
   ]
  },
  {
   "cell_type": "markdown",
   "metadata": {},
   "source": [
    "## Kaggle submission"
   ]
  },
  {
   "cell_type": "code",
   "execution_count": 36,
   "metadata": {
    "collapsed": true
   },
   "outputs": [],
   "source": [
    "list_paths_t = []\n",
    "for subdir, dirs, files in os.walk(master_path + os.sep + \"data\" + os.sep + 'test'): #\"data\n",
    "    for file in files:\n",
    "        filepath = subdir + os.sep + file\n",
    "        list_paths_t.append(filepath)"
   ]
  },
  {
   "cell_type": "code",
   "execution_count": 37,
   "metadata": {
    "collapsed": true
   },
   "outputs": [],
   "source": [
    "list_test = [filepath for filepath in list_paths_t if \"test/test\" in filepath and '.ipynb' not in filepath]\n",
    "classes = {v:k for k,v in t.class_indices.items()}"
   ]
  },
  {
   "cell_type": "code",
   "execution_count": 39,
   "metadata": {
    "collapsed": true
   },
   "outputs": [],
   "source": [
    "from keras.preprocessing import image\n",
    "from keras.applications.resnet50 import preprocess_input\n",
    "\n",
    "final_dict = {}\n",
    "\n",
    "for img_path in list_test:\n",
    "    img = image.load_img(img_path, target_size=(224, 224))\n",
    "    x = image.img_to_array(img)\n",
    "    x = np.expand_dims(x, axis=0)\n",
    "    x = preprocess_input(x)\n",
    "\n",
    "    pred = resnet50_ft.predict(x)\n",
    "    c = classes[np.argmax(pred, axis=1)[0]]\n",
    "    final_dict[img_path.split(os.sep)[-1]] = c"
   ]
  },
  {
   "cell_type": "code",
   "execution_count": 40,
   "metadata": {},
   "outputs": [
    {
     "data": {
      "text/html": [
       "<div>\n",
       "<style>\n",
       "    .dataframe thead tr:only-child th {\n",
       "        text-align: right;\n",
       "    }\n",
       "\n",
       "    .dataframe thead th {\n",
       "        text-align: left;\n",
       "    }\n",
       "\n",
       "    .dataframe tbody tr th {\n",
       "        vertical-align: top;\n",
       "    }\n",
       "</style>\n",
       "<table border=\"1\" class=\"dataframe\">\n",
       "  <thead>\n",
       "    <tr style=\"text-align: right;\">\n",
       "      <th></th>\n",
       "      <th>fname</th>\n",
       "      <th>camera</th>\n",
       "    </tr>\n",
       "  </thead>\n",
       "  <tbody>\n",
       "    <tr>\n",
       "      <th>0</th>\n",
       "      <td>img_60fa981_manip.tif</td>\n",
       "      <td>Motorola-Nexus-6</td>\n",
       "    </tr>\n",
       "    <tr>\n",
       "      <th>1</th>\n",
       "      <td>img_ae09094_manip.tif</td>\n",
       "      <td>Motorola-Nexus-6</td>\n",
       "    </tr>\n",
       "    <tr>\n",
       "      <th>2</th>\n",
       "      <td>img_cf68c4b_manip.tif</td>\n",
       "      <td>LG-Nexus-5x</td>\n",
       "    </tr>\n",
       "    <tr>\n",
       "      <th>3</th>\n",
       "      <td>img_d39f0ff_unalt.tif</td>\n",
       "      <td>LG-Nexus-5x</td>\n",
       "    </tr>\n",
       "    <tr>\n",
       "      <th>4</th>\n",
       "      <td>img_b38df95_unalt.tif</td>\n",
       "      <td>iPhone-4s</td>\n",
       "    </tr>\n",
       "    <tr>\n",
       "      <th>5</th>\n",
       "      <td>img_7487183_manip.tif</td>\n",
       "      <td>iPhone-6</td>\n",
       "    </tr>\n",
       "    <tr>\n",
       "      <th>6</th>\n",
       "      <td>img_3954571_manip.tif</td>\n",
       "      <td>Motorola-Droid-Maxx</td>\n",
       "    </tr>\n",
       "    <tr>\n",
       "      <th>7</th>\n",
       "      <td>img_327b547_unalt.tif</td>\n",
       "      <td>Motorola-X</td>\n",
       "    </tr>\n",
       "    <tr>\n",
       "      <th>8</th>\n",
       "      <td>img_ea8864a_manip.tif</td>\n",
       "      <td>Motorola-Nexus-6</td>\n",
       "    </tr>\n",
       "    <tr>\n",
       "      <th>9</th>\n",
       "      <td>img_ee72d58_manip.tif</td>\n",
       "      <td>Motorola-X</td>\n",
       "    </tr>\n",
       "  </tbody>\n",
       "</table>\n",
       "</div>"
      ],
      "text/plain": [
       "                   fname               camera\n",
       "0  img_60fa981_manip.tif     Motorola-Nexus-6\n",
       "1  img_ae09094_manip.tif     Motorola-Nexus-6\n",
       "2  img_cf68c4b_manip.tif          LG-Nexus-5x\n",
       "3  img_d39f0ff_unalt.tif          LG-Nexus-5x\n",
       "4  img_b38df95_unalt.tif            iPhone-4s\n",
       "5  img_7487183_manip.tif             iPhone-6\n",
       "6  img_3954571_manip.tif  Motorola-Droid-Maxx\n",
       "7  img_327b547_unalt.tif           Motorola-X\n",
       "8  img_ea8864a_manip.tif     Motorola-Nexus-6\n",
       "9  img_ee72d58_manip.tif           Motorola-X"
      ]
     },
     "execution_count": 40,
     "metadata": {},
     "output_type": "execute_result"
    }
   ],
   "source": [
    "kaggle = pd.DataFrame.from_dict(final_dict, orient='index').reset_index()\n",
    "kaggle.columns = ['fname', 'camera']\n",
    "kaggle.to_csv('./IEEE/for_kaggle.csv', index=False)\n",
    "kaggle.head(10)"
   ]
  },
  {
   "cell_type": "code",
   "execution_count": 41,
   "metadata": {},
   "outputs": [
    {
     "data": {
      "text/plain": [
       "(2640, 2)"
      ]
     },
     "execution_count": 41,
     "metadata": {},
     "output_type": "execute_result"
    }
   ],
   "source": [
    "kaggle.shape"
   ]
  }
 ],
 "metadata": {
  "kernelspec": {
   "display_name": "Python 3",
   "language": "python",
   "name": "python3"
  },
  "language_info": {
   "codemirror_mode": {
    "name": "ipython",
    "version": 3
   },
   "file_extension": ".py",
   "mimetype": "text/x-python",
   "name": "python",
   "nbconvert_exporter": "python",
   "pygments_lexer": "ipython3",
   "version": "3.6.1"
  }
 },
 "nbformat": 4,
 "nbformat_minor": 2
}
